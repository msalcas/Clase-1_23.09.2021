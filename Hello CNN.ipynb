{
 "cells": [
  {
   "cell_type": "code",
   "execution_count": 1,
   "metadata": {},
   "outputs": [],
   "source": [
    "import tensorflow as tf\n",
    "import tensorflow_datasets as tfds\n",
    "from datetime import datetime\n",
    "from dateutil.relativedelta import relativedelta as rd"
   ]
  },
  {
   "cell_type": "code",
   "execution_count": 2,
   "metadata": {},
   "outputs": [],
   "source": [
    "ini = datetime.now()"
   ]
  },
  {
   "cell_type": "code",
   "execution_count": 3,
   "metadata": {},
   "outputs": [],
   "source": [
    "from tensorflow.python.client import device_lib"
   ]
  },
  {
   "cell_type": "code",
   "execution_count": 4,
   "metadata": {},
   "outputs": [
    {
     "data": {
      "text/plain": [
       "[name: \"/device:CPU:0\"\n",
       " device_type: \"CPU\"\n",
       " memory_limit: 268435456\n",
       " locality {\n",
       " }\n",
       " incarnation: 9039283890295552128,\n",
       " name: \"/device:GPU:0\"\n",
       " device_type: \"GPU\"\n",
       " memory_limit: 4325310464\n",
       " locality {\n",
       "   bus_id: 1\n",
       "   links {\n",
       "   }\n",
       " }\n",
       " incarnation: 1407398587855253559\n",
       " physical_device_desc: \"device: 0, name: NVIDIA GeForce RTX 2060, pci bus id: 0000:01:00.0, compute capability: 7.5\"]"
      ]
     },
     "execution_count": 4,
     "metadata": {},
     "output_type": "execute_result"
    }
   ],
   "source": [
    "device_lib.list_local_devices()"
   ]
  },
  {
   "cell_type": "markdown",
   "metadata": {},
   "source": [
    "#### Carga y preparación de datos"
   ]
  },
  {
   "cell_type": "code",
   "execution_count": 5,
   "metadata": {},
   "outputs": [
    {
     "name": "stdout",
     "output_type": "stream",
     "text": [
      "\u001b[1mDownloading and preparing dataset 11.06 MiB (download: 11.06 MiB, generated: 21.00 MiB, total: 32.06 MiB) to /root/tensorflow_datasets/mnist/3.0.1...\u001b[0m\n"
     ]
    },
    {
     "data": {
      "application/vnd.jupyter.widget-view+json": {
       "model_id": "3a6b381bd2b2400bafaf51884219c4e1",
       "version_major": 2,
       "version_minor": 0
      },
      "text/plain": [
       "Dl Completed...:   0%|          | 0/4 [00:00<?, ? file/s]"
      ]
     },
     "metadata": {},
     "output_type": "display_data"
    },
    {
     "name": "stdout",
     "output_type": "stream",
     "text": [
      "\u001b[1mDataset mnist downloaded and prepared to /root/tensorflow_datasets/mnist/3.0.1. Subsequent calls will reuse this data.\u001b[0m\n"
     ]
    }
   ],
   "source": [
    "bld = tfds.builder('mnist')\n",
    "bld.download_and_prepare()\n",
    "ds = bld.as_dataset(shuffle_files=False)\n",
    "dstro = ds['train']\n",
    "dsteo = ds['test']"
   ]
  },
  {
   "cell_type": "code",
   "execution_count": 7,
   "metadata": {},
   "outputs": [],
   "source": [
    "TAM_BUFF = 10000\n",
    "TAM_LOTE = 64\n",
    "NUM_EP = 40"
   ]
  },
  {
   "cell_type": "code",
   "execution_count": 8,
   "metadata": {},
   "outputs": [],
   "source": [
    "dstr = dstro.map(lambda item:(tf.cast(item['image'],tf.float32)/255.0,tf.cast(item['label'],tf.int32)))\n",
    "dste = dsteo.map(lambda item:(tf.cast(item['image'],tf.float32)/255.0,tf.cast(item['label'],tf.int32)))"
   ]
  },
  {
   "cell_type": "code",
   "execution_count": 9,
   "metadata": {},
   "outputs": [],
   "source": [
    "tf.random.set_seed(0)\n",
    "dstr = dstr.shuffle(buffer_size=TAM_BUFF,reshuffle_each_iteration=False)\n",
    "dsva = dstr.take(10000).batch(TAM_LOTE)\n",
    "dstr = dstr.skip(10000).batch(TAM_LOTE)"
   ]
  },
  {
   "cell_type": "markdown",
   "metadata": {},
   "source": [
    "#### Construcción de la CNN"
   ]
  },
  {
   "cell_type": "code",
   "execution_count": 10,
   "metadata": {},
   "outputs": [],
   "source": [
    "\"\"\"\n",
    "Arquitectura \n",
    "28x28x1-->Conv(5x5x32)-->28x28x32-->Pooling(2x2)-->14x14x32-->\n",
    "Conv(5x5x64)-->14x14x64-->Pooling(2x2)-->7x7x64-->Flat-->1024-->\n",
    "FC1-->FC2-->10\n",
    "\"\"\"\n",
    "\n",
    "cnn = tf.keras.Sequential()\n",
    "\n",
    "cnn.add(tf.keras.layers.Conv2D(filters=32,\n",
    "                               kernel_size=(5,5),\n",
    "                               strides=(1,1),\n",
    "                               padding='same',\n",
    "                               data_format='channels_last',\n",
    "                               name='conv1',\n",
    "                               activation='relu'\n",
    "                              ))\n",
    "\n",
    "cnn.add(tf.keras.layers.MaxPool2D(pool_size=(2,2),\n",
    "                                  name='pool1'\n",
    "                                 ))\n",
    "\n",
    "cnn.add(tf.keras.layers.Conv2D(filters=64,\n",
    "                               kernel_size=(5,5),\n",
    "                               strides=(1,1),\n",
    "                               padding='same',\n",
    "                               data_format='channels_last',\n",
    "                               name='conv2',\n",
    "                               activation='relu'\n",
    "                              ))\n",
    "\n",
    "cnn.add(tf.keras.layers.MaxPool2D(pool_size=(2,2),\n",
    "                                  name='pool2'\n",
    "                                 ))\n",
    "\n",
    "cnn.add(tf.keras.layers.Flatten())\n",
    "\n",
    "cnn.add(tf.keras.layers.Dense(units=1024,\n",
    "                              name='fc1',\n",
    "                              activation='relu'\n",
    "                             ))\n",
    "\n",
    "cnn.add(tf.keras.layers.Dropout(rate=0.5\n",
    "                               ))\n",
    "\n",
    "cnn.add(tf.keras.layers.Dense(units=10,\n",
    "                              name='fc2',\n",
    "                              activation='softmax'\n",
    "                             ))"
   ]
  },
  {
   "cell_type": "code",
   "execution_count": 11,
   "metadata": {},
   "outputs": [],
   "source": [
    "tf.random.set_seed(0)\n",
    "cnn.build(input_shape=(None,28,28,1))"
   ]
  },
  {
   "cell_type": "code",
   "execution_count": 12,
   "metadata": {},
   "outputs": [
    {
     "name": "stdout",
     "output_type": "stream",
     "text": [
      "Model: \"sequential\"\n",
      "_________________________________________________________________\n",
      "Layer (type)                 Output Shape              Param #   \n",
      "=================================================================\n",
      "conv1 (Conv2D)               (None, 28, 28, 32)        832       \n",
      "_________________________________________________________________\n",
      "pool1 (MaxPooling2D)         (None, 14, 14, 32)        0         \n",
      "_________________________________________________________________\n",
      "conv2 (Conv2D)               (None, 14, 14, 64)        51264     \n",
      "_________________________________________________________________\n",
      "pool2 (MaxPooling2D)         (None, 7, 7, 64)          0         \n",
      "_________________________________________________________________\n",
      "flatten (Flatten)            (None, 3136)              0         \n",
      "_________________________________________________________________\n",
      "fc1 (Dense)                  (None, 1024)              3212288   \n",
      "_________________________________________________________________\n",
      "dropout (Dropout)            (None, 1024)              0         \n",
      "_________________________________________________________________\n",
      "fc2 (Dense)                  (None, 10)                10250     \n",
      "=================================================================\n",
      "Total params: 3,274,634\n",
      "Trainable params: 3,274,634\n",
      "Non-trainable params: 0\n",
      "_________________________________________________________________\n"
     ]
    }
   ],
   "source": [
    "cnn.summary()"
   ]
  },
  {
   "cell_type": "markdown",
   "metadata": {},
   "source": [
    "#### Entrenamiento del Modelo"
   ]
  },
  {
   "cell_type": "code",
   "execution_count": 13,
   "metadata": {},
   "outputs": [],
   "source": [
    "cnn.compile(optimizer=tf.keras.optimizers.Adam(),\n",
    "            loss=tf.keras.losses.SparseCategoricalCrossentropy(),\n",
    "            metrics=['accuracy']\n",
    "           )"
   ]
  },
  {
   "cell_type": "code",
   "execution_count": 14,
   "metadata": {},
   "outputs": [
    {
     "name": "stdout",
     "output_type": "stream",
     "text": [
      "Epoch 1/40\n",
      "782/782 [==============================] - 7s 5ms/step - loss: 0.1398 - accuracy: 0.9553 - val_loss: 0.0439 - val_accuracy: 0.9867\n",
      "Epoch 2/40\n",
      "782/782 [==============================] - 4s 5ms/step - loss: 0.0431 - accuracy: 0.9863 - val_loss: 0.0365 - val_accuracy: 0.9888\n",
      "Epoch 3/40\n",
      "782/782 [==============================] - 4s 5ms/step - loss: 0.0303 - accuracy: 0.9899 - val_loss: 0.0363 - val_accuracy: 0.9897\n",
      "Epoch 4/40\n",
      "782/782 [==============================] - 4s 5ms/step - loss: 0.0239 - accuracy: 0.9924 - val_loss: 0.0412 - val_accuracy: 0.9881\n",
      "Epoch 5/40\n",
      "782/782 [==============================] - 4s 5ms/step - loss: 0.0171 - accuracy: 0.9941 - val_loss: 0.0421 - val_accuracy: 0.9898\n",
      "Epoch 6/40\n",
      "782/782 [==============================] - 4s 5ms/step - loss: 0.0167 - accuracy: 0.9948 - val_loss: 0.0395 - val_accuracy: 0.9891\n",
      "Epoch 7/40\n",
      "782/782 [==============================] - 4s 5ms/step - loss: 0.0117 - accuracy: 0.9963 - val_loss: 0.0428 - val_accuracy: 0.9904\n",
      "Epoch 8/40\n",
      "782/782 [==============================] - 4s 5ms/step - loss: 0.0103 - accuracy: 0.9969 - val_loss: 0.0579 - val_accuracy: 0.9881\n",
      "Epoch 9/40\n",
      "782/782 [==============================] - 4s 5ms/step - loss: 0.0131 - accuracy: 0.9957 - val_loss: 0.0468 - val_accuracy: 0.9901\n",
      "Epoch 10/40\n",
      "782/782 [==============================] - 4s 5ms/step - loss: 0.0089 - accuracy: 0.9970 - val_loss: 0.0473 - val_accuracy: 0.9902\n",
      "Epoch 11/40\n",
      "782/782 [==============================] - 4s 5ms/step - loss: 0.0068 - accuracy: 0.9977 - val_loss: 0.0534 - val_accuracy: 0.9896\n",
      "Epoch 12/40\n",
      "782/782 [==============================] - 4s 5ms/step - loss: 0.0077 - accuracy: 0.9976 - val_loss: 0.0532 - val_accuracy: 0.9897\n",
      "Epoch 13/40\n",
      "782/782 [==============================] - 4s 5ms/step - loss: 0.0082 - accuracy: 0.9973 - val_loss: 0.0479 - val_accuracy: 0.9908\n",
      "Epoch 14/40\n",
      "782/782 [==============================] - 4s 5ms/step - loss: 0.0089 - accuracy: 0.9971 - val_loss: 0.0531 - val_accuracy: 0.9903\n",
      "Epoch 15/40\n",
      "782/782 [==============================] - 4s 5ms/step - loss: 0.0072 - accuracy: 0.9979 - val_loss: 0.0573 - val_accuracy: 0.9920\n",
      "Epoch 16/40\n",
      "782/782 [==============================] - 4s 5ms/step - loss: 0.0062 - accuracy: 0.9982 - val_loss: 0.0581 - val_accuracy: 0.9912\n",
      "Epoch 17/40\n",
      "782/782 [==============================] - 4s 5ms/step - loss: 0.0068 - accuracy: 0.9978 - val_loss: 0.0557 - val_accuracy: 0.9908\n",
      "Epoch 18/40\n",
      "782/782 [==============================] - 4s 5ms/step - loss: 0.0076 - accuracy: 0.9979 - val_loss: 0.0605 - val_accuracy: 0.9906\n",
      "Epoch 19/40\n",
      "782/782 [==============================] - 4s 5ms/step - loss: 0.0056 - accuracy: 0.9981 - val_loss: 0.0637 - val_accuracy: 0.9912\n",
      "Epoch 20/40\n",
      "782/782 [==============================] - 4s 5ms/step - loss: 0.0052 - accuracy: 0.9984 - val_loss: 0.0611 - val_accuracy: 0.9923\n",
      "Epoch 21/40\n",
      "782/782 [==============================] - 4s 5ms/step - loss: 0.0061 - accuracy: 0.9983 - val_loss: 0.0704 - val_accuracy: 0.9911\n",
      "Epoch 22/40\n",
      "782/782 [==============================] - 4s 5ms/step - loss: 0.0072 - accuracy: 0.9979 - val_loss: 0.0854 - val_accuracy: 0.9892\n",
      "Epoch 23/40\n",
      "782/782 [==============================] - 4s 5ms/step - loss: 0.0041 - accuracy: 0.9989 - val_loss: 0.0700 - val_accuracy: 0.9925\n",
      "Epoch 24/40\n",
      "782/782 [==============================] - 4s 5ms/step - loss: 0.0040 - accuracy: 0.9989 - val_loss: 0.0712 - val_accuracy: 0.9913\n",
      "Epoch 25/40\n",
      "782/782 [==============================] - 4s 5ms/step - loss: 0.0062 - accuracy: 0.9984 - val_loss: 0.0709 - val_accuracy: 0.9918\n",
      "Epoch 26/40\n",
      "782/782 [==============================] - 4s 5ms/step - loss: 0.0061 - accuracy: 0.9983 - val_loss: 0.0824 - val_accuracy: 0.9888\n",
      "Epoch 27/40\n",
      "782/782 [==============================] - 4s 5ms/step - loss: 0.0048 - accuracy: 0.9988 - val_loss: 0.0941 - val_accuracy: 0.9907\n",
      "Epoch 28/40\n",
      "782/782 [==============================] - 4s 5ms/step - loss: 0.0045 - accuracy: 0.9989 - val_loss: 0.0794 - val_accuracy: 0.9921\n",
      "Epoch 29/40\n",
      "782/782 [==============================] - 4s 5ms/step - loss: 0.0068 - accuracy: 0.9983 - val_loss: 0.0790 - val_accuracy: 0.9901\n",
      "Epoch 30/40\n",
      "782/782 [==============================] - 4s 5ms/step - loss: 0.0073 - accuracy: 0.9982 - val_loss: 0.0816 - val_accuracy: 0.9900\n",
      "Epoch 31/40\n",
      "782/782 [==============================] - 4s 5ms/step - loss: 0.0032 - accuracy: 0.9991 - val_loss: 0.0771 - val_accuracy: 0.9907\n",
      "Epoch 32/40\n",
      "782/782 [==============================] - 4s 5ms/step - loss: 0.0055 - accuracy: 0.9986 - val_loss: 0.0730 - val_accuracy: 0.9906\n",
      "Epoch 33/40\n",
      "782/782 [==============================] - 4s 5ms/step - loss: 0.0030 - accuracy: 0.9991 - val_loss: 0.0815 - val_accuracy: 0.9917\n",
      "Epoch 34/40\n",
      "782/782 [==============================] - 4s 5ms/step - loss: 0.0059 - accuracy: 0.9985 - val_loss: 0.0817 - val_accuracy: 0.9917\n",
      "Epoch 35/40\n",
      "782/782 [==============================] - 4s 5ms/step - loss: 0.0048 - accuracy: 0.9989 - val_loss: 0.0964 - val_accuracy: 0.9921\n",
      "Epoch 36/40\n",
      "782/782 [==============================] - 4s 5ms/step - loss: 0.0047 - accuracy: 0.9988 - val_loss: 0.1097 - val_accuracy: 0.9906\n",
      "Epoch 37/40\n",
      "782/782 [==============================] - 4s 5ms/step - loss: 0.0076 - accuracy: 0.9983 - val_loss: 0.1324 - val_accuracy: 0.9912\n",
      "Epoch 38/40\n",
      "782/782 [==============================] - 4s 5ms/step - loss: 0.0062 - accuracy: 0.9990 - val_loss: 0.1047 - val_accuracy: 0.9903\n",
      "Epoch 39/40\n",
      "782/782 [==============================] - 4s 5ms/step - loss: 0.0041 - accuracy: 0.9992 - val_loss: 0.1068 - val_accuracy: 0.9914\n",
      "Epoch 40/40\n",
      "782/782 [==============================] - 4s 5ms/step - loss: 0.0039 - accuracy: 0.9990 - val_loss: 0.1054 - val_accuracy: 0.9920\n"
     ]
    }
   ],
   "source": [
    "historia = cnn.fit(dstr,\n",
    "                   epochs=NUM_EP,\n",
    "                   validation_data=dsva,\n",
    "                   shuffle=True)"
   ]
  },
  {
   "cell_type": "markdown",
   "metadata": {},
   "source": [
    "#### Resultados"
   ]
  },
  {
   "cell_type": "code",
   "execution_count": 15,
   "metadata": {},
   "outputs": [],
   "source": [
    "import matplotlib.pyplot as plt\n",
    "import numpy as np\n",
    "\n",
    "hist = historia.history\n",
    "x_arr = np.arange(len(hist['loss']))+1"
   ]
  },
  {
   "cell_type": "code",
   "execution_count": 16,
   "metadata": {},
   "outputs": [
    {
     "data": {
      "image/png": "[encoded data removed]",
      "text/plain": [
       "<Figure size 864x360 with 2 Axes>"
      ]
     },
     "metadata": {
      "needs_background": "light"
     },
     "output_type": "display_data"
    }
   ],
   "source": [
    "\n",
    "fig = plt.figure(figsize=(12,5))\n",
    "ax = fig.add_subplot(1,2,1)\n",
    "ax.plot(hist['loss'],'-o',label='Pérdida de Entrenamiento')\n",
    "ax.plot(hist['val_loss'],'--<',label='Pérdida de Validación')\n",
    "ax.set_title('Pérdida',size=15)\n",
    "ax.set_xlabel('Época',size=15)\n",
    "ax.tick_params(axis='both',which='major',labelsize=15)\n",
    "ax.legend(fontsize=15)\n",
    "ax = fig.add_subplot(1,2,2)\n",
    "ax.plot(hist['accuracy'],'-o',label='Precisión Entrenamiento')\n",
    "ax.plot(hist['val_accuracy'],'--<',label='Precisión Validación')\n",
    "ax.set_title('Precisión',size=15)\n",
    "ax.set_xlabel('Época',size=15)\n",
    "ax.tick_params(axis='both',which='major',labelsize=15)\n",
    "ax.legend(fontsize=15)\n",
    "plt.show()"
   ]
  },
  {
   "cell_type": "code",
   "execution_count": 18,
   "metadata": {},
   "outputs": [
    {
     "name": "stdout",
     "output_type": "stream",
     "text": [
      "50/50 [==============================] - 0s 4ms/step - loss: 0.0720 - accuracy: 0.9922\n",
      "Precisión Prueba 0.9922\n"
     ]
    }
   ],
   "source": [
    "resultados_prueba = cnn.evaluate(dste.batch(200))\n",
    "print('Precisión Prueba %.4f'%resultados_prueba[1])"
   ]
  },
  {
   "cell_type": "code",
   "execution_count": 19,
   "metadata": {},
   "outputs": [
    {
     "name": "stdout",
     "output_type": "stream",
     "text": [
      "tf.Tensor([2 0 4 8 7 6 0 6 3 1 8 0], shape=(12,), dtype=int64)\n"
     ]
    },
    {
     "data": {
      "image/png": "[encoded data removed]",
      "text/plain": [
       "<Figure size 864x288 with 12 Axes>"
      ]
     },
     "metadata": {},
     "output_type": "display_data"
    }
   ],
   "source": [
    "lote_prueba = next(iter(dste.batch(12)))\n",
    "pred = cnn(lote_prueba[0])\n",
    "\n",
    "pred = tf.argmax(pred,axis=1)\n",
    "print(pred)\n",
    "fig = plt.figure(figsize=(12,4))\n",
    "for i in range(12):\n",
    "    ax = fig.add_subplot(2,6,i+1)\n",
    "    ax.set_xticks([]); ax.set_yticks([])\n",
    "    img = lote_prueba[0][i,:,:,0]\n",
    "    ax.imshow(img,cmap='gray_r')\n",
    "    ax.text (0.9,0.1,'{}'.format(pred[i]),\n",
    "             size=15,\n",
    "             color='blue',\n",
    "             horizontalalignment='center',\n",
    "             verticalalignment='center',\n",
    "             transform=ax.transAxes)\n",
    "plt.show()"
   ]
  },
  {
   "cell_type": "code",
   "execution_count": 20,
   "metadata": {},
   "outputs": [
    {
     "data": {
      "text/plain": [
       "relativedelta(minutes=+30, seconds=+4, microseconds=+536317)"
      ]
     },
     "execution_count": 20,
     "metadata": {},
     "output_type": "execute_result"
    }
   ],
   "source": [
    "rd(datetime.now(),ini)"
   ]
  },
  {
   "cell_type": "code",
   "execution_count": null,
   "metadata": {},
   "outputs": [],
   "source": []
  }
 ],
 "metadata": {
  "kernelspec": {
   "display_name": "Python 3",
   "language": "python",
   "name": "python3"
  },
  "language_info": {
   "codemirror_mode": {
    "name": "ipython",
    "version": 3
   },
   "file_extension": ".py",
   "mimetype": "text/x-python",
   "name": "python",
   "nbconvert_exporter": "python",
   "pygments_lexer": "ipython3",
   "version": "3.6.9"
  }
 },
 "nbformat": 4,
 "nbformat_minor": 4
}

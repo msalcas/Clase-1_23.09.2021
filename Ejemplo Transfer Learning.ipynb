{
 "cells": [
  {
   "cell_type": "markdown",
   "id": "coastal-apache",
   "metadata": {},
   "source": [
    "## Dependencias"
   ]
  },
  {
   "cell_type": "code",
   "execution_count": null,
   "id": "perceived-symposium",
   "metadata": {},
   "outputs": [],
   "source": [
    "!pip install pandas\n",
    "!pip install scipy"
   ]
  },
  {
   "cell_type": "code",
   "execution_count": 1,
   "id": "alleged-roller",
   "metadata": {
    "ExecuteTime": {
     "end_time": "2021-03-11T02:53:58.708591Z",
     "start_time": "2021-03-11T02:53:57.465569Z"
    }
   },
   "outputs": [],
   "source": [
    "import tensorflow as tf\n",
    "import pandas as pd\n",
    "from tensorflow.keras import models,layers,optimizers\n",
    "from tensorflow.keras.preprocessing.image import ImageDataGenerator\n",
    "from tensorflow.keras.preprocessing import image\n",
    "from tensorflow.keras.applications import VGG16\n",
    "import numpy as np\n",
    "import matplotlib.pyplot as plt\n",
    "import os\n",
    "import shutil"
   ]
  },
  {
   "cell_type": "code",
   "execution_count": 2,
   "id": "interstate-monthly",
   "metadata": {
    "ExecuteTime": {
     "end_time": "2021-03-11T02:53:59.282941Z",
     "start_time": "2021-03-11T02:53:59.277638Z"
    }
   },
   "outputs": [],
   "source": [
    "ruta  = '/tf/bd/cats_dogs_mini/'"
   ]
  },
  {
   "cell_type": "markdown",
   "id": "agricultural-poison",
   "metadata": {},
   "source": [
    "## Red profunda desde donde se transferirá el conocimiento"
   ]
  },
  {
   "cell_type": "code",
   "execution_count": 3,
   "id": "rubber-brisbane",
   "metadata": {
    "ExecuteTime": {
     "end_time": "2021-03-11T02:58:09.281317Z",
     "start_time": "2021-03-11T02:58:09.005507Z"
    }
   },
   "outputs": [],
   "source": [
    "base = VGG16(weights='imagenet', #Características aprendidas\n",
    "             include_top=False, #Descartar capa densa final\n",
    "             input_shape=(150,150,3))"
   ]
  },
  {
   "cell_type": "code",
   "execution_count": 4,
   "id": "signal-chosen",
   "metadata": {
    "ExecuteTime": {
     "end_time": "2021-03-11T02:58:12.406857Z",
     "start_time": "2021-03-11T02:58:12.390168Z"
    }
   },
   "outputs": [
    {
     "name": "stdout",
     "output_type": "stream",
     "text": [
      "Model: \"vgg16\"\n",
      "_________________________________________________________________\n",
      "Layer (type)                 Output Shape              Param #   \n",
      "=================================================================\n",
      "input_1 (InputLayer)         [(None, 150, 150, 3)]     0         \n",
      "_________________________________________________________________\n",
      "block1_conv1 (Conv2D)        (None, 150, 150, 64)      1792      \n",
      "_________________________________________________________________\n",
      "block1_conv2 (Conv2D)        (None, 150, 150, 64)      36928     \n",
      "_________________________________________________________________\n",
      "block1_pool (MaxPooling2D)   (None, 75, 75, 64)        0         \n",
      "_________________________________________________________________\n",
      "block2_conv1 (Conv2D)        (None, 75, 75, 128)       73856     \n",
      "_________________________________________________________________\n",
      "block2_conv2 (Conv2D)        (None, 75, 75, 128)       147584    \n",
      "_________________________________________________________________\n",
      "block2_pool (MaxPooling2D)   (None, 37, 37, 128)       0         \n",
      "_________________________________________________________________\n",
      "block3_conv1 (Conv2D)        (None, 37, 37, 256)       295168    \n",
      "_________________________________________________________________\n",
      "block3_conv2 (Conv2D)        (None, 37, 37, 256)       590080    \n",
      "_________________________________________________________________\n",
      "block3_conv3 (Conv2D)        (None, 37, 37, 256)       590080    \n",
      "_________________________________________________________________\n",
      "block3_pool (MaxPooling2D)   (None, 18, 18, 256)       0         \n",
      "_________________________________________________________________\n",
      "block4_conv1 (Conv2D)        (None, 18, 18, 512)       1180160   \n",
      "_________________________________________________________________\n",
      "block4_conv2 (Conv2D)        (None, 18, 18, 512)       2359808   \n",
      "_________________________________________________________________\n",
      "block4_conv3 (Conv2D)        (None, 18, 18, 512)       2359808   \n",
      "_________________________________________________________________\n",
      "block4_pool (MaxPooling2D)   (None, 9, 9, 512)         0         \n",
      "_________________________________________________________________\n",
      "block5_conv1 (Conv2D)        (None, 9, 9, 512)         2359808   \n",
      "_________________________________________________________________\n",
      "block5_conv2 (Conv2D)        (None, 9, 9, 512)         2359808   \n",
      "_________________________________________________________________\n",
      "block5_conv3 (Conv2D)        (None, 9, 9, 512)         2359808   \n",
      "_________________________________________________________________\n",
      "block5_pool (MaxPooling2D)   (None, 4, 4, 512)         0         \n",
      "=================================================================\n",
      "Total params: 14,714,688\n",
      "Trainable params: 14,714,688\n",
      "Non-trainable params: 0\n",
      "_________________________________________________________________\n"
     ]
    }
   ],
   "source": [
    "base.summary()"
   ]
  },
  {
   "cell_type": "markdown",
   "id": "coral-excerpt",
   "metadata": {},
   "source": [
    "## Creación de conjuntos de datos"
   ]
  },
  {
   "cell_type": "code",
   "execution_count": 5,
   "id": "polish-underwear",
   "metadata": {
    "ExecuteTime": {
     "end_time": "2021-03-11T02:58:46.845077Z",
     "start_time": "2021-03-11T02:58:46.841770Z"
    }
   },
   "outputs": [],
   "source": [
    "dest = '/tf/bd/cats_dogs_mini/'"
   ]
  },
  {
   "cell_type": "code",
   "execution_count": 6,
   "id": "linear-input",
   "metadata": {
    "ExecuteTime": {
     "end_time": "2021-03-11T03:02:35.171905Z",
     "start_time": "2021-03-11T03:02:35.167635Z"
    }
   },
   "outputs": [],
   "source": [
    "train = ImageDataGenerator(rotation_range=40, #Rota las imágenes aleatoriamente\n",
    "                           width_shift_range=0.2, # Traslada horizontalmente\n",
    "                           height_shift_range=0.2, #Traslada verticalmente\n",
    "                           shear_range=0.2, #transformaciones de corte (cizalla)\n",
    "                           zoom_range=0.2, #acercamientos aleatorios\n",
    "                           horizontal_flip=True, #Voltea horizontalmente\n",
    "                           fill_mode='nearest',\n",
    "                           rescale = 1/255\n",
    "                          )\n",
    "\n",
    "\n",
    "test = ImageDataGenerator(rescale=1/255)"
   ]
  },
  {
   "cell_type": "code",
   "execution_count": 7,
   "id": "supported-sweden",
   "metadata": {
    "ExecuteTime": {
     "end_time": "2021-03-11T03:03:50.820261Z",
     "start_time": "2021-03-11T03:02:35.667772Z"
    }
   },
   "outputs": [
    {
     "name": "stdout",
     "output_type": "stream",
     "text": [
      "Found 2000 images belonging to 2 classes.\n"
     ]
    }
   ],
   "source": [
    "train = train.flow_from_directory(os.path.join(dest,'train'),\n",
    "                                  target_size=(150,150),\n",
    "                                  batch_size=32,\n",
    "                                  class_mode='binary')"
   ]
  },
  {
   "cell_type": "code",
   "execution_count": 8,
   "id": "subjective-honolulu",
   "metadata": {
    "ExecuteTime": {
     "end_time": "2021-03-11T03:04:29.733799Z",
     "start_time": "2021-03-11T03:03:50.821852Z"
    }
   },
   "outputs": [
    {
     "name": "stdout",
     "output_type": "stream",
     "text": [
      "Found 1000 images belonging to 2 classes.\n"
     ]
    }
   ],
   "source": [
    "validation = test.flow_from_directory(os.path.join(dest,'validate'),\n",
    "                                  target_size=(150,150),\n",
    "                                  batch_size=20,\n",
    "                                  class_mode='binary')"
   ]
  },
  {
   "cell_type": "markdown",
   "id": "published-budget",
   "metadata": {},
   "source": [
    "## Acoplamiento de capa final para adaptar al clasificador binario"
   ]
  },
  {
   "cell_type": "code",
   "execution_count": 9,
   "id": "least-canal",
   "metadata": {
    "ExecuteTime": {
     "end_time": "2021-03-11T03:08:23.441430Z",
     "start_time": "2021-03-11T03:07:51.014279Z"
    }
   },
   "outputs": [
    {
     "name": "stdout",
     "output_type": "stream",
     "text": [
      "Model: \"sequential\"\n",
      "_________________________________________________________________\n",
      "Layer (type)                 Output Shape              Param #   \n",
      "=================================================================\n",
      "vgg16 (Functional)           (None, 4, 4, 512)         14714688  \n",
      "_________________________________________________________________\n",
      "flatten (Flatten)            (None, 8192)              0         \n",
      "_________________________________________________________________\n",
      "dropout (Dropout)            (None, 8192)              0         \n",
      "_________________________________________________________________\n",
      "dense (Dense)                (None, 512)               4194816   \n",
      "_________________________________________________________________\n",
      "dense_1 (Dense)              (None, 1)                 513       \n",
      "=================================================================\n",
      "Total params: 18,910,017\n",
      "Trainable params: 18,910,017\n",
      "Non-trainable params: 0\n",
      "_________________________________________________________________\n"
     ]
    }
   ],
   "source": [
    "modelo = models.Sequential()\n",
    "modelo.add(base)\n",
    "modelo.add(layers.Flatten())\n",
    "modelo.add(layers.Dropout(0.5))\n",
    "modelo.add(layers.Dense(512,activation='relu'))\n",
    "modelo.add(layers.Dense(1,activation='sigmoid'))\n",
    "modelo.summary()"
   ]
  },
  {
   "cell_type": "code",
   "execution_count": 10,
   "metadata": {},
   "outputs": [],
   "source": [
    "base.trainable = False"
   ]
  },
  {
   "cell_type": "code",
   "execution_count": 11,
   "metadata": {},
   "outputs": [
    {
     "name": "stdout",
     "output_type": "stream",
     "text": [
      "Model: \"sequential\"\n",
      "_________________________________________________________________\n",
      "Layer (type)                 Output Shape              Param #   \n",
      "=================================================================\n",
      "vgg16 (Functional)           (None, 4, 4, 512)         14714688  \n",
      "_________________________________________________________________\n",
      "flatten (Flatten)            (None, 8192)              0         \n",
      "_________________________________________________________________\n",
      "dropout (Dropout)            (None, 8192)              0         \n",
      "_________________________________________________________________\n",
      "dense (Dense)                (None, 512)               4194816   \n",
      "_________________________________________________________________\n",
      "dense_1 (Dense)              (None, 1)                 513       \n",
      "=================================================================\n",
      "Total params: 18,910,017\n",
      "Trainable params: 4,195,329\n",
      "Non-trainable params: 14,714,688\n",
      "_________________________________________________________________\n"
     ]
    }
   ],
   "source": [
    "modelo.summary()"
   ]
  },
  {
   "cell_type": "code",
   "execution_count": 12,
   "metadata": {},
   "outputs": [
    {
     "name": "stderr",
     "output_type": "stream",
     "text": [
      "/usr/local/lib/python3.6/dist-packages/keras/engine/training.py:1972: UserWarning: `Model.fit_generator` is deprecated and will be removed in a future version. Please use `Model.fit`, which supports generators.\n",
      "  warnings.warn('`Model.fit_generator` is deprecated and '\n"
     ]
    },
    {
     "name": "stdout",
     "output_type": "stream",
     "text": [
      "Epoch 1/30\n",
      "62/62 [==============================] - 22s 274ms/step - loss: 0.6085 - acc: 0.6885 - val_loss: 0.3535 - val_acc: 0.8590\n",
      "Epoch 2/30\n",
      "62/62 [==============================] - 14s 222ms/step - loss: 0.4739 - acc: 0.7820 - val_loss: 0.3170 - val_acc: 0.8650\n",
      "Epoch 3/30\n",
      "62/62 [==============================] - 13s 215ms/step - loss: 0.4448 - acc: 0.7891 - val_loss: 0.2908 - val_acc: 0.8770\n",
      "Epoch 4/30\n",
      "62/62 [==============================] - 14s 217ms/step - loss: 0.4256 - acc: 0.8054 - val_loss: 0.2857 - val_acc: 0.8770\n",
      "Epoch 5/30\n",
      "62/62 [==============================] - 14s 230ms/step - loss: 0.3971 - acc: 0.8211 - val_loss: 0.3469 - val_acc: 0.8540\n",
      "Epoch 6/30\n",
      "62/62 [==============================] - 13s 215ms/step - loss: 0.4127 - acc: 0.8100 - val_loss: 0.3457 - val_acc: 0.8380\n",
      "Epoch 7/30\n",
      "62/62 [==============================] - 13s 215ms/step - loss: 0.3963 - acc: 0.8120 - val_loss: 0.2870 - val_acc: 0.8740\n",
      "Epoch 8/30\n",
      "62/62 [==============================] - 16s 259ms/step - loss: 0.3831 - acc: 0.8247 - val_loss: 0.2714 - val_acc: 0.8850\n",
      "Epoch 9/30\n",
      "62/62 [==============================] - 14s 220ms/step - loss: 0.3793 - acc: 0.8237 - val_loss: 0.2587 - val_acc: 0.8850\n",
      "Epoch 10/30\n",
      "62/62 [==============================] - 14s 226ms/step - loss: 0.3691 - acc: 0.8211 - val_loss: 0.2648 - val_acc: 0.8820\n",
      "Epoch 11/30\n",
      "62/62 [==============================] - 13s 214ms/step - loss: 0.3654 - acc: 0.8293 - val_loss: 0.2826 - val_acc: 0.8790\n",
      "Epoch 12/30\n",
      "62/62 [==============================] - 14s 221ms/step - loss: 0.3562 - acc: 0.8460 - val_loss: 0.2705 - val_acc: 0.8810\n",
      "Epoch 13/30\n",
      "62/62 [==============================] - 13s 212ms/step - loss: 0.3579 - acc: 0.8410 - val_loss: 0.2753 - val_acc: 0.8790\n",
      "Epoch 14/30\n",
      "62/62 [==============================] - 13s 212ms/step - loss: 0.3819 - acc: 0.8298 - val_loss: 0.3861 - val_acc: 0.8290\n",
      "Epoch 15/30\n",
      "62/62 [==============================] - 13s 210ms/step - loss: 0.3815 - acc: 0.8318 - val_loss: 0.2992 - val_acc: 0.8750\n",
      "Epoch 16/30\n",
      "62/62 [==============================] - 14s 217ms/step - loss: 0.3634 - acc: 0.8404 - val_loss: 0.2568 - val_acc: 0.8850\n",
      "Epoch 17/30\n",
      "62/62 [==============================] - 13s 214ms/step - loss: 0.3643 - acc: 0.8384 - val_loss: 0.2799 - val_acc: 0.8730\n",
      "Epoch 18/30\n",
      "62/62 [==============================] - 13s 211ms/step - loss: 0.3371 - acc: 0.8430 - val_loss: 0.2574 - val_acc: 0.8920\n",
      "Epoch 19/30\n",
      "62/62 [==============================] - 14s 222ms/step - loss: 0.3723 - acc: 0.8354 - val_loss: 0.2717 - val_acc: 0.8810\n",
      "Epoch 20/30\n",
      "62/62 [==============================] - 14s 223ms/step - loss: 0.3445 - acc: 0.8465 - val_loss: 0.2718 - val_acc: 0.8810\n",
      "Epoch 21/30\n",
      "62/62 [==============================] - 13s 212ms/step - loss: 0.3610 - acc: 0.8491 - val_loss: 0.2890 - val_acc: 0.8780\n",
      "Epoch 22/30\n",
      "62/62 [==============================] - 13s 214ms/step - loss: 0.3427 - acc: 0.8415 - val_loss: 0.2562 - val_acc: 0.8870\n",
      "Epoch 23/30\n",
      "62/62 [==============================] - 13s 217ms/step - loss: 0.3385 - acc: 0.8577 - val_loss: 0.3028 - val_acc: 0.8810\n",
      "Epoch 24/30\n",
      "62/62 [==============================] - 14s 219ms/step - loss: 0.3430 - acc: 0.8465 - val_loss: 0.2574 - val_acc: 0.8870\n",
      "Epoch 25/30\n",
      "62/62 [==============================] - 13s 214ms/step - loss: 0.3521 - acc: 0.8399 - val_loss: 0.2572 - val_acc: 0.8910\n",
      "Epoch 26/30\n",
      "62/62 [==============================] - 13s 209ms/step - loss: 0.3537 - acc: 0.8389 - val_loss: 0.3141 - val_acc: 0.8600\n",
      "Epoch 27/30\n",
      "62/62 [==============================] - 13s 216ms/step - loss: 0.3365 - acc: 0.8557 - val_loss: 0.2578 - val_acc: 0.8910\n",
      "Epoch 28/30\n",
      "62/62 [==============================] - 14s 223ms/step - loss: 0.3545 - acc: 0.8537 - val_loss: 0.2624 - val_acc: 0.8910\n",
      "Epoch 29/30\n",
      "62/62 [==============================] - 13s 215ms/step - loss: 0.3456 - acc: 0.8476 - val_loss: 0.2746 - val_acc: 0.8860\n",
      "Epoch 30/30\n",
      "62/62 [==============================] - 13s 216ms/step - loss: 0.3456 - acc: 0.8476 - val_loss: 0.3251 - val_acc: 0.8540\n"
     ]
    }
   ],
   "source": [
    "modelo.compile(loss='binary_crossentropy',\n",
    "               optimizer=optimizers.RMSprop(learning_rate=1e-4),\n",
    "               metrics=['acc'])\n",
    "history = modelo.fit_generator(train,\n",
    "                     steps_per_epoch=2000//32,\n",
    "                     epochs=30,\n",
    "                     validation_data=validation,\n",
    "                     validation_steps=50)"
   ]
  },
  {
   "cell_type": "markdown",
   "id": "general-bishop",
   "metadata": {},
   "source": [
    "## Resultados"
   ]
  },
  {
   "cell_type": "code",
   "execution_count": 13,
   "id": "overhead-custody",
   "metadata": {
    "ExecuteTime": {
     "end_time": "2021-03-11T03:08:27.494249Z",
     "start_time": "2021-03-11T03:08:27.276630Z"
    }
   },
   "outputs": [
    {
     "data": {
      "image/png": "[encoded data removed]",
      "text/plain": [
       "<Figure size 864x360 with 2 Axes>"
      ]
     },
     "metadata": {
      "needs_background": "light"
     },
     "output_type": "display_data"
    }
   ],
   "source": [
    "hist = history.history\n",
    "x_arr = np.arange(len(hist['loss']))+1\n",
    "fig = plt.figure(figsize=(12,5))\n",
    "ax = fig.add_subplot(1,2,1)\n",
    "ax.plot(hist['loss'],'-o',label='Pérdida de Entrenamiento')\n",
    "ax.plot(hist['val_loss'],'--<',label='Pérdida de Validación')\n",
    "ax.set_title('Pérdida',size=15)\n",
    "ax.set_xlabel('Época',size=15)\n",
    "ax.tick_params(axis='both',which='major',labelsize=15)\n",
    "ax.legend(fontsize=15)\n",
    "ax = fig.add_subplot(1,2,2)\n",
    "ax.plot(hist['acc'],'-o',label='Precisión Entrenamiento')\n",
    "ax.plot(hist['val_acc'],'--<',label='Precisión Validación')\n",
    "ax.set_title('Precisión',size=15)\n",
    "ax.set_xlabel('Época',size=15)\n",
    "ax.tick_params(axis='both',which='major',labelsize=15)\n",
    "ax.legend(fontsize=15)\n",
    "plt.show()"
   ]
  },
  {
   "cell_type": "code",
   "execution_count": 15,
   "id": "funky-china",
   "metadata": {},
   "outputs": [],
   "source": [
    "modelo.save('gatos_perros_transfer_vgg16.h5')"
   ]
  },
  {
   "cell_type": "code",
   "execution_count": null,
   "metadata": {},
   "outputs": [],
   "source": []
  }
 ],
 "metadata": {
  "kernelspec": {
   "display_name": "Python 3",
   "language": "python",
   "name": "python3"
  },
  "language_info": {
   "codemirror_mode": {
    "name": "ipython",
    "version": 3
   },
   "file_extension": ".py",
   "mimetype": "text/x-python",
   "name": "python",
   "nbconvert_exporter": "python",
   "pygments_lexer": "ipython3",
   "version": "3.6.9"
  },
  "toc": {
   "base_numbering": 1,
   "nav_menu": {},
   "number_sections": true,
   "sideBar": true,
   "skip_h1_title": false,
   "title_cell": "Table of Contents",
   "title_sidebar": "Contents",
   "toc_cell": false,
   "toc_position": {},
   "toc_section_display": true,
   "toc_window_display": false
  }
 },
 "nbformat": 4,
 "nbformat_minor": 5
}

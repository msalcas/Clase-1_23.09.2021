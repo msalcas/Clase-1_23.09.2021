{
 "cells": [
  {
   "cell_type": "code",
   "execution_count": 10,
   "metadata": {},
   "outputs": [
    {
     "name": "stdout",
     "output_type": "stream",
     "text": [
      "Collecting tensorflow_datasets\n",
      "  Downloading tensorflow_datasets-4.4.0-py3-none-any.whl (4.0 MB)\n",
      "\u001b[K     |████████████████████████████████| 4.0 MB 1.7 MB/s eta 0:00:01\n",
      "\u001b[?25hRequirement already satisfied: numpy in /usr/local/lib/python3.6/dist-packages (from tensorflow_datasets) (1.19.5)\n",
      "Collecting importlib-resources; python_version < \"3.9\"\n",
      "  Downloading importlib_resources-5.2.2-py3-none-any.whl (27 kB)\n",
      "Requirement already satisfied: absl-py in /usr/local/lib/python3.6/dist-packages (from tensorflow_datasets) (0.13.0)\n",
      "Requirement already satisfied: typing-extensions; python_version < \"3.8\" in /usr/local/lib/python3.6/dist-packages (from tensorflow_datasets) (3.7.4.3)\n",
      "Requirement already satisfied: termcolor in /usr/local/lib/python3.6/dist-packages (from tensorflow_datasets) (1.1.0)\n",
      "Collecting tensorflow-metadata\n",
      "  Downloading tensorflow_metadata-1.2.0-py3-none-any.whl (48 kB)\n",
      "\u001b[K     |████████████████████████████████| 48 kB 7.7 MB/s  eta 0:00:01\n",
      "\u001b[?25hCollecting future\n",
      "  Downloading future-0.18.2.tar.gz (829 kB)\n",
      "\u001b[K     |████████████████████████████████| 829 kB 21.1 MB/s eta 0:00:01\n",
      "\u001b[?25hRequirement already satisfied: protobuf>=3.12.2 in /usr/local/lib/python3.6/dist-packages (from tensorflow_datasets) (3.17.3)\n",
      "Collecting tqdm\n",
      "  Downloading tqdm-4.62.3-py2.py3-none-any.whl (76 kB)\n",
      "\u001b[K     |████████████████████████████████| 76 kB 5.0 MB/s s eta 0:00:01\n",
      "\u001b[?25hRequirement already satisfied: requests>=2.19.0 in /usr/local/lib/python3.6/dist-packages (from tensorflow_datasets) (2.26.0)\n",
      "Requirement already satisfied: six in /usr/local/lib/python3.6/dist-packages (from tensorflow_datasets) (1.15.0)\n",
      "Collecting dill\n",
      "  Downloading dill-0.3.4-py2.py3-none-any.whl (86 kB)\n",
      "\u001b[K     |████████████████████████████████| 86 kB 6.1 MB/s  eta 0:00:01\n",
      "\u001b[?25hRequirement already satisfied: attrs>=18.1.0 in /usr/local/lib/python3.6/dist-packages (from tensorflow_datasets) (21.2.0)\n",
      "Requirement already satisfied: dataclasses; python_version < \"3.7\" in /usr/local/lib/python3.6/dist-packages (from tensorflow_datasets) (0.8)\n",
      "Collecting promise\n",
      "  Downloading promise-2.3.tar.gz (19 kB)\n",
      "Requirement already satisfied: zipp>=3.1.0; python_version < \"3.10\" in /usr/local/lib/python3.6/dist-packages (from importlib-resources; python_version < \"3.9\"->tensorflow_datasets) (3.5.0)\n",
      "Collecting googleapis-common-protos<2,>=1.52.0\n",
      "  Downloading googleapis_common_protos-1.53.0-py2.py3-none-any.whl (198 kB)\n",
      "\u001b[K     |████████████████████████████████| 198 kB 109.6 MB/s eta 0:00:01\n",
      "\u001b[?25hRequirement already satisfied: idna<4,>=2.5; python_version >= \"3\" in /usr/lib/python3/dist-packages (from requests>=2.19.0->tensorflow_datasets) (2.6)\n",
      "Requirement already satisfied: certifi>=2017.4.17 in /usr/local/lib/python3.6/dist-packages (from requests>=2.19.0->tensorflow_datasets) (2021.5.30)\n",
      "Requirement already satisfied: urllib3<1.27,>=1.21.1 in /usr/local/lib/python3.6/dist-packages (from requests>=2.19.0->tensorflow_datasets) (1.26.6)\n",
      "Requirement already satisfied: charset-normalizer~=2.0.0; python_version >= \"3\" in /usr/local/lib/python3.6/dist-packages (from requests>=2.19.0->tensorflow_datasets) (2.0.4)\n",
      "Building wheels for collected packages: future, promise\n",
      "  Building wheel for future (setup.py) ... \u001b[?25ldone\n",
      "\u001b[?25h  Created wheel for future: filename=future-0.18.2-py3-none-any.whl size=491070 sha256=6986019af86bc4154aac3885d5c38f53cd7027aeaf02e2760b58cff60ca7f4bc\n",
      "  Stored in directory: /root/.cache/pip/wheels/6e/9c/ed/4499c9865ac1002697793e0ae05ba6be33553d098f3347fb94\n",
      "  Building wheel for promise (setup.py) ... \u001b[?25ldone\n",
      "\u001b[?25h  Created wheel for promise: filename=promise-2.3-py3-none-any.whl size=21502 sha256=f1f2bb0ad40c9d635869fc874b9d6363d2cbd4cccc3a46b9ffa88974bae31004\n",
      "  Stored in directory: /root/.cache/pip/wheels/59/9a/1d/3f1afbbb5122d0410547bf9eb50955f4a7a98e53a6d8b99bd1\n",
      "Successfully built future promise\n",
      "Installing collected packages: importlib-resources, googleapis-common-protos, tensorflow-metadata, future, tqdm, dill, promise, tensorflow-datasets\n",
      "\u001b[31mERROR: After October 2020 you may experience errors when installing or updating packages. This is because pip will change the way that it resolves dependency conflicts.\n",
      "\n",
      "We recommend you use --use-feature=2020-resolver to test your packages with the new resolver before it becomes the default.\n",
      "\n",
      "tensorflow-metadata 1.2.0 requires absl-py<0.13,>=0.9, but you'll have absl-py 0.13.0 which is incompatible.\u001b[0m\n",
      "Successfully installed dill-0.3.4 future-0.18.2 googleapis-common-protos-1.53.0 importlib-resources-5.2.2 promise-2.3 tensorflow-datasets-4.4.0 tensorflow-metadata-1.2.0 tqdm-4.62.3\n",
      "\u001b[33mWARNING: You are using pip version 20.2.4; however, version 21.2.4 is available.\n",
      "You should consider upgrading via the '/usr/bin/python3 -m pip install --upgrade pip' command.\u001b[0m\n"
     ]
    }
   ],
   "source": [
    "!pip install tensorflow_datasets"
   ]
  },
  {
   "cell_type": "code",
   "execution_count": 1,
   "metadata": {
    "ExecuteTime": {
     "end_time": "2021-09-23T22:52:47.528153Z",
     "start_time": "2021-09-23T22:52:46.395233Z"
    }
   },
   "outputs": [],
   "source": [
    "import numpy as np\n",
    "import tensorflow as tf\n",
    "import matplotlib.pyplot as plt"
   ]
  },
  {
   "cell_type": "code",
   "execution_count": 2,
   "metadata": {
    "ExecuteTime": {
     "end_time": "2021-09-23T22:52:50.358129Z",
     "start_time": "2021-09-23T22:52:50.274426Z"
    }
   },
   "outputs": [
    {
     "data": {
      "text/plain": [
       "[<matplotlib.lines.Line2D at 0x7f311436dd68>]"
      ]
     },
     "execution_count": 2,
     "metadata": {},
     "output_type": "execute_result"
    },
    {
     "data": {
      "image/png": "[encoded data removed]",
      "text/plain": [
       "<Figure size 432x288 with 1 Axes>"
      ]
     },
     "metadata": {
      "needs_background": "light"
     },
     "output_type": "display_data"
    }
   ],
   "source": [
    "Xt = np.arange(10).reshape((10,1))\n",
    "yt = (-3.0*Xt+10.0).astype(float)\n",
    "plt.plot(Xt,yt,marker='^')"
   ]
  },
  {
   "cell_type": "code",
   "execution_count": 3,
   "metadata": {
    "ExecuteTime": {
     "end_time": "2021-09-23T22:52:52.027674Z",
     "start_time": "2021-09-23T22:52:51.261824Z"
    }
   },
   "outputs": [],
   "source": [
    "dst = tf.data.Dataset.from_tensor_slices((tf.cast(Xt,tf.float32),\n",
    "                                          tf.cast(yt,tf.float32)))"
   ]
  },
  {
   "cell_type": "code",
   "execution_count": 5,
   "metadata": {
    "ExecuteTime": {
     "end_time": "2021-09-23T22:52:53.231494Z",
     "start_time": "2021-09-23T22:52:52.028946Z"
    }
   },
   "outputs": [],
   "source": [
    "class RegLineal(tf.keras.Model):\n",
    "    def __init__(self):\n",
    "        super(RegLineal,self).__init__() ##instancia la superclase\n",
    "        self.w = tf.Variable(0.0, name='peso')\n",
    "        self.b = tf.Variable(0.0, name='sesgo')\n",
    "    \n",
    "    def call(self, X):\n",
    "        return tf.cast(self.w*X+self.b,tf.float32)\n",
    "    \n",
    "def func_perdida(y_true,y_pred):\n",
    "    return tf.reduce_mean(tf.square(tf.cast(y_true,tf.float32)-tf.cast(y_pred,tf.float32)))\n"
   ]
  },
  {
   "cell_type": "code",
   "execution_count": 6,
   "metadata": {
    "ExecuteTime": {
     "end_time": "2021-09-23T22:52:53.907953Z",
     "start_time": "2021-09-23T22:52:53.232561Z"
    }
   },
   "outputs": [],
   "source": [
    "x = RegLineal()"
   ]
  },
  {
   "cell_type": "code",
   "execution_count": 7,
   "metadata": {
    "ExecuteTime": {
     "end_time": "2021-09-23T22:52:58.276171Z",
     "start_time": "2021-09-23T22:52:53.913027Z"
    }
   },
   "outputs": [
    {
     "name": "stdout",
     "output_type": "stream",
     "text": [
      "Epoch 1/200\n",
      "10/10 [==============================] - 0s 2ms/step - loss: 23.4498 - mae: 3.9415 - mse: 23.4498\n",
      "Epoch 2/200\n",
      "10/10 [==============================] - 0s 1ms/step - loss: 26.8063 - mae: 3.9980 - mse: 26.8063\n",
      "Epoch 3/200\n",
      "10/10 [==============================] - 0s 2ms/step - loss: 24.1042 - mae: 3.7911 - mse: 24.1042\n",
      "Epoch 4/200\n",
      "10/10 [==============================] - 0s 1ms/step - loss: 21.6745 - mae: 3.5950 - mse: 21.6745\n",
      "Epoch 5/200\n",
      "10/10 [==============================] - 0s 1ms/step - loss: 19.4897 - mae: 3.4090 - mse: 19.4897\n",
      "Epoch 6/200\n",
      "10/10 [==============================] - 0s 1ms/step - loss: 17.5251 - mae: 3.2326 - mse: 17.5251\n",
      "Epoch 7/200\n",
      "10/10 [==============================] - 0s 1ms/step - loss: 15.7586 - mae: 3.0654 - mse: 15.7586\n",
      "Epoch 8/200\n",
      "10/10 [==============================] - 0s 1ms/step - loss: 14.1701 - mae: 2.9068 - mse: 14.1701\n",
      "Epoch 9/200\n",
      "10/10 [==============================] - 0s 1ms/step - loss: 12.7418 - mae: 2.7564 - mse: 12.7418\n",
      "Epoch 10/200\n",
      "10/10 [==============================] - 0s 2ms/step - loss: 11.4574 - mae: 2.6138 - mse: 11.4574\n",
      "Epoch 11/200\n",
      "10/10 [==============================] - 0s 2ms/step - loss: 10.3025 - mae: 2.4785 - mse: 10.3025\n",
      "Epoch 12/200\n",
      "10/10 [==============================] - 0s 2ms/step - loss: 9.2640 - mae: 2.3503 - mse: 9.2640\n",
      "Epoch 13/200\n",
      "10/10 [==============================] - 0s 2ms/step - loss: 8.3302 - mae: 2.2287 - mse: 8.3302\n",
      "Epoch 14/200\n",
      "10/10 [==============================] - 0s 1ms/step - loss: 7.4905 - mae: 2.1134 - mse: 7.4905\n",
      "Epoch 15/200\n",
      "10/10 [==============================] - 0s 1ms/step - loss: 6.7355 - mae: 2.0040 - mse: 6.7355\n",
      "Epoch 16/200\n",
      "10/10 [==============================] - 0s 2ms/step - loss: 6.0565 - mae: 1.9004 - mse: 6.0565\n",
      "Epoch 17/200\n",
      "10/10 [==============================] - 0s 2ms/step - loss: 5.4460 - mae: 1.8020 - mse: 5.4460\n",
      "Epoch 18/200\n",
      "10/10 [==============================] - 0s 2ms/step - loss: 4.8971 - mae: 1.7088 - mse: 4.8971\n",
      "Epoch 19/200\n",
      "10/10 [==============================] - 0s 2ms/step - loss: 4.4035 - mae: 1.6204 - mse: 4.4035\n",
      "Epoch 20/200\n",
      "10/10 [==============================] - 0s 2ms/step - loss: 3.9596 - mae: 1.5366 - mse: 3.9596\n",
      "Epoch 21/200\n",
      "10/10 [==============================] - 0s 1ms/step - loss: 3.5605 - mae: 1.4571 - mse: 3.5605\n",
      "Epoch 22/200\n",
      "10/10 [==============================] - 0s 1ms/step - loss: 3.2016 - mae: 1.3817 - mse: 3.2016\n",
      "Epoch 23/200\n",
      "10/10 [==============================] - 0s 1ms/step - loss: 2.8788 - mae: 1.3102 - mse: 2.8788\n",
      "Epoch 24/200\n",
      "10/10 [==============================] - 0s 2ms/step - loss: 2.5887 - mae: 1.2424 - mse: 2.5887\n",
      "Epoch 25/200\n",
      "10/10 [==============================] - 0s 1ms/step - loss: 2.3277 - mae: 1.1781 - mse: 2.3277\n",
      "Epoch 26/200\n",
      "10/10 [==============================] - 0s 1ms/step - loss: 2.0931 - mae: 1.1172 - mse: 2.0931\n",
      "Epoch 27/200\n",
      "10/10 [==============================] - 0s 1ms/step - loss: 1.8821 - mae: 1.0594 - mse: 1.8821\n",
      "Epoch 28/200\n",
      "10/10 [==============================] - 0s 1ms/step - loss: 1.6924 - mae: 1.0046 - mse: 1.6924\n",
      "Epoch 29/200\n",
      "10/10 [==============================] - 0s 2ms/step - loss: 1.5218 - mae: 0.9526 - mse: 1.5218\n",
      "Epoch 30/200\n",
      "10/10 [==============================] - 0s 1ms/step - loss: 1.3684 - mae: 0.9033 - mse: 1.3684\n",
      "Epoch 31/200\n",
      "10/10 [==============================] - 0s 1ms/step - loss: 1.2305 - mae: 0.8566 - mse: 1.2305\n",
      "Epoch 32/200\n",
      "10/10 [==============================] - 0s 1ms/step - loss: 1.1064 - mae: 0.8122 - mse: 1.1064\n",
      "Epoch 33/200\n",
      "10/10 [==============================] - 0s 1ms/step - loss: 0.9949 - mae: 0.7702 - mse: 0.9949\n",
      "Epoch 34/200\n",
      "10/10 [==============================] - 0s 1ms/step - loss: 0.8946 - mae: 0.7304 - mse: 0.8946\n",
      "Epoch 35/200\n",
      "10/10 [==============================] - 0s 1ms/step - loss: 0.8044 - mae: 0.6926 - mse: 0.8044\n",
      "Epoch 36/200\n",
      "10/10 [==============================] - 0s 1ms/step - loss: 0.7234 - mae: 0.6567 - mse: 0.7234\n",
      "Epoch 37/200\n",
      "10/10 [==============================] - 0s 1ms/step - loss: 0.6504 - mae: 0.6228 - mse: 0.6504\n",
      "Epoch 38/200\n",
      "10/10 [==============================] - 0s 2ms/step - loss: 0.5849 - mae: 0.5905 - mse: 0.5849\n",
      "Epoch 39/200\n",
      "10/10 [==============================] - 0s 1ms/step - loss: 0.5259 - mae: 0.5600 - mse: 0.5259\n",
      "Epoch 40/200\n",
      "10/10 [==============================] - 0s 934us/step - loss: 0.4729 - mae: 0.5310 - mse: 0.4729\n",
      "Epoch 41/200\n",
      "10/10 [==============================] - 0s 1ms/step - loss: 0.4252 - mae: 0.5035 - mse: 0.4252\n",
      "Epoch 42/200\n",
      "10/10 [==============================] - 0s 1ms/step - loss: 0.3824 - mae: 0.4775 - mse: 0.3824\n",
      "Epoch 43/200\n",
      "10/10 [==============================] - 0s 1ms/step - loss: 0.3438 - mae: 0.4528 - mse: 0.3438\n",
      "Epoch 44/200\n",
      "10/10 [==============================] - 0s 1ms/step - loss: 0.3092 - mae: 0.4294 - mse: 0.3092\n",
      "Epoch 45/200\n",
      "10/10 [==============================] - 0s 1ms/step - loss: 0.2780 - mae: 0.4071 - mse: 0.2780\n",
      "Epoch 46/200\n",
      "10/10 [==============================] - 0s 1ms/step - loss: 0.2500 - mae: 0.3861 - mse: 0.2500\n",
      "Epoch 47/200\n",
      "10/10 [==============================] - 0s 1ms/step - loss: 0.2248 - mae: 0.3661 - mse: 0.2248\n",
      "Epoch 48/200\n",
      "10/10 [==============================] - 0s 1ms/step - loss: 0.2021 - mae: 0.3472 - mse: 0.2021\n",
      "Epoch 49/200\n",
      "10/10 [==============================] - 0s 1ms/step - loss: 0.1818 - mae: 0.3292 - mse: 0.1818\n",
      "Epoch 50/200\n",
      "10/10 [==============================] - 0s 1ms/step - loss: 0.1634 - mae: 0.3122 - mse: 0.1634\n",
      "Epoch 51/200\n",
      "10/10 [==============================] - 0s 1ms/step - loss: 0.1470 - mae: 0.2960 - mse: 0.1470\n",
      "Epoch 52/200\n",
      "10/10 [==============================] - 0s 1ms/step - loss: 0.1321 - mae: 0.2807 - mse: 0.1321\n",
      "Epoch 53/200\n",
      "10/10 [==============================] - 0s 1ms/step - loss: 0.1188 - mae: 0.2662 - mse: 0.1188\n",
      "Epoch 54/200\n",
      "10/10 [==============================] - 0s 1ms/step - loss: 0.1068 - mae: 0.2524 - mse: 0.1068\n",
      "Epoch 55/200\n",
      "10/10 [==============================] - 0s 2ms/step - loss: 0.0961 - mae: 0.2393 - mse: 0.0961\n",
      "Epoch 56/200\n",
      "10/10 [==============================] - 0s 1ms/step - loss: 0.0864 - mae: 0.2270 - mse: 0.0864\n",
      "Epoch 57/200\n",
      "10/10 [==============================] - 0s 2ms/step - loss: 0.0777 - mae: 0.2152 - mse: 0.0777\n",
      "Epoch 58/200\n",
      "10/10 [==============================] - 0s 2ms/step - loss: 0.0699 - mae: 0.2041 - mse: 0.0699\n",
      "Epoch 59/200\n",
      "10/10 [==============================] - 0s 1ms/step - loss: 0.0628 - mae: 0.1935 - mse: 0.0628\n",
      "Epoch 60/200\n",
      "10/10 [==============================] - 0s 1ms/step - loss: 0.0565 - mae: 0.1835 - mse: 0.0565\n",
      "Epoch 61/200\n",
      "10/10 [==============================] - 0s 1ms/step - loss: 0.0508 - mae: 0.1740 - mse: 0.0508\n",
      "Epoch 62/200\n",
      "10/10 [==============================] - 0s 1ms/step - loss: 0.0457 - mae: 0.1650 - mse: 0.0457\n",
      "Epoch 63/200\n",
      "10/10 [==============================] - 0s 1ms/step - loss: 0.0411 - mae: 0.1565 - mse: 0.0411\n",
      "Epoch 64/200\n",
      "10/10 [==============================] - 0s 2ms/step - loss: 0.0369 - mae: 0.1484 - mse: 0.0369\n",
      "Epoch 65/200\n",
      "10/10 [==============================] - 0s 2ms/step - loss: 0.0332 - mae: 0.1407 - mse: 0.0332\n",
      "Epoch 66/200\n",
      "10/10 [==============================] - 0s 1ms/step - loss: 0.0299 - mae: 0.1334 - mse: 0.0299\n",
      "Epoch 67/200\n",
      "10/10 [==============================] - 0s 1ms/step - loss: 0.0268 - mae: 0.1265 - mse: 0.0268\n",
      "Epoch 68/200\n",
      "10/10 [==============================] - 0s 1ms/step - loss: 0.0241 - mae: 0.1200 - mse: 0.0241\n",
      "Epoch 69/200\n",
      "10/10 [==============================] - 0s 2ms/step - loss: 0.0217 - mae: 0.1138 - mse: 0.0217\n",
      "Epoch 70/200\n",
      "10/10 [==============================] - 0s 2ms/step - loss: 0.0195 - mae: 0.1079 - mse: 0.0195\n",
      "Epoch 71/200\n",
      "10/10 [==============================] - 0s 1ms/step - loss: 0.0176 - mae: 0.1023 - mse: 0.0176\n",
      "Epoch 72/200\n",
      "10/10 [==============================] - 0s 1ms/step - loss: 0.0158 - mae: 0.0970 - mse: 0.0158\n",
      "Epoch 73/200\n",
      "10/10 [==============================] - 0s 1ms/step - loss: 0.0142 - mae: 0.0920 - mse: 0.0142\n",
      "Epoch 74/200\n",
      "10/10 [==============================] - 0s 2ms/step - loss: 0.0128 - mae: 0.0872 - mse: 0.0128\n",
      "Epoch 75/200\n",
      "10/10 [==============================] - 0s 1ms/step - loss: 0.0115 - mae: 0.0827 - mse: 0.0115\n",
      "Epoch 76/200\n"
     ]
    },
    {
     "name": "stdout",
     "output_type": "stream",
     "text": [
      "10/10 [==============================] - 0s 2ms/step - loss: 0.0103 - mae: 0.0784 - mse: 0.0103\n",
      "Epoch 77/200\n",
      "10/10 [==============================] - 0s 2ms/step - loss: 0.0093 - mae: 0.0744 - mse: 0.0093\n",
      "Epoch 78/200\n",
      "10/10 [==============================] - 0s 1ms/step - loss: 0.0083 - mae: 0.0705 - mse: 0.0083\n",
      "Epoch 79/200\n",
      "10/10 [==============================] - 0s 1ms/step - loss: 0.0075 - mae: 0.0669 - mse: 0.0075\n",
      "Epoch 80/200\n",
      "10/10 [==============================] - 0s 1ms/step - loss: 0.0067 - mae: 0.0634 - mse: 0.0067\n",
      "Epoch 81/200\n",
      "10/10 [==============================] - 0s 1ms/step - loss: 0.0061 - mae: 0.0601 - mse: 0.0061\n",
      "Epoch 82/200\n",
      "10/10 [==============================] - 0s 1ms/step - loss: 0.0055 - mae: 0.0570 - mse: 0.0055\n",
      "Epoch 83/200\n",
      "10/10 [==============================] - 0s 1ms/step - loss: 0.0049 - mae: 0.0541 - mse: 0.0049\n",
      "Epoch 84/200\n",
      "10/10 [==============================] - 0s 1ms/step - loss: 0.0044 - mae: 0.0513 - mse: 0.0044\n",
      "Epoch 85/200\n",
      "10/10 [==============================] - 0s 1ms/step - loss: 0.0040 - mae: 0.0486 - mse: 0.0040\n",
      "Epoch 86/200\n",
      "10/10 [==============================] - 0s 1ms/step - loss: 0.0036 - mae: 0.0461 - mse: 0.0036\n",
      "Epoch 87/200\n",
      "10/10 [==============================] - 0s 1ms/step - loss: 0.0032 - mae: 0.0437 - mse: 0.0032\n",
      "Epoch 88/200\n",
      "10/10 [==============================] - 0s 1ms/step - loss: 0.0029 - mae: 0.0415 - mse: 0.0029\n",
      "Epoch 89/200\n",
      "10/10 [==============================] - 0s 1ms/step - loss: 0.0026 - mae: 0.0393 - mse: 0.0026\n",
      "Epoch 90/200\n",
      "10/10 [==============================] - 0s 1ms/step - loss: 0.0023 - mae: 0.0373 - mse: 0.0023\n",
      "Epoch 91/200\n",
      "10/10 [==============================] - 0s 1ms/step - loss: 0.0021 - mae: 0.0354 - mse: 0.0021\n",
      "Epoch 92/200\n",
      "10/10 [==============================] - 0s 994us/step - loss: 0.0019 - mae: 0.0335 - mse: 0.0019\n",
      "Epoch 93/200\n",
      "10/10 [==============================] - 0s 1ms/step - loss: 0.0017 - mae: 0.0318 - mse: 0.0017\n",
      "Epoch 94/200\n",
      "10/10 [==============================] - 0s 1ms/step - loss: 0.0015 - mae: 0.0301 - mse: 0.0015\n",
      "Epoch 95/200\n",
      "10/10 [==============================] - 0s 1ms/step - loss: 0.0014 - mae: 0.0286 - mse: 0.0014\n",
      "Epoch 96/200\n",
      "10/10 [==============================] - 0s 1ms/step - loss: 0.0012 - mae: 0.0271 - mse: 0.0012\n",
      "Epoch 97/200\n",
      "10/10 [==============================] - 0s 1ms/step - loss: 0.0011 - mae: 0.0257 - mse: 0.0011\n",
      "Epoch 98/200\n",
      "10/10 [==============================] - 0s 1ms/step - loss: 9.9650e-04 - mae: 0.0244 - mse: 9.9650e-04\n",
      "Epoch 99/200\n",
      "10/10 [==============================] - 0s 975us/step - loss: 8.9603e-04 - mae: 0.0231 - mse: 8.9603e-04\n",
      "Epoch 100/200\n",
      "10/10 [==============================] - 0s 1ms/step - loss: 8.0569e-04 - mae: 0.0219 - mse: 8.0569e-04\n",
      "Epoch 101/200\n",
      "10/10 [==============================] - 0s 1ms/step - loss: 7.2449e-04 - mae: 0.0208 - mse: 7.2449e-04\n",
      "Epoch 102/200\n",
      "10/10 [==============================] - ETA: 0s - loss: 0.0024 - mae: 0.0492 - mse: 0.002 - 0s 1ms/step - loss: 6.5148e-04 - mae: 0.0197 - mse: 6.5148e-04\n",
      "Epoch 103/200\n",
      "10/10 [==============================] - 0s 1ms/step - loss: 5.8580e-04 - mae: 0.0187 - mse: 5.8580e-04\n",
      "Epoch 104/200\n",
      "10/10 [==============================] - 0s 1ms/step - loss: 5.2677e-04 - mae: 0.0177 - mse: 5.2677e-04\n",
      "Epoch 105/200\n",
      "10/10 [==============================] - 0s 1ms/step - loss: 4.7366e-04 - mae: 0.0168 - mse: 4.7366e-04\n",
      "Epoch 106/200\n",
      "10/10 [==============================] - 0s 1ms/step - loss: 4.2594e-04 - mae: 0.0159 - mse: 4.2594e-04\n",
      "Epoch 107/200\n",
      "10/10 [==============================] - 0s 1ms/step - loss: 3.8298e-04 - mae: 0.0151 - mse: 3.8298e-04\n",
      "Epoch 108/200\n",
      "10/10 [==============================] - 0s 1ms/step - loss: 3.4441e-04 - mae: 0.0143 - mse: 3.4441e-04\n",
      "Epoch 109/200\n",
      "10/10 [==============================] - 0s 1ms/step - loss: 3.0969e-04 - mae: 0.0136 - mse: 3.0969e-04\n",
      "Epoch 110/200\n",
      "10/10 [==============================] - 0s 1ms/step - loss: 2.7847e-04 - mae: 0.0129 - mse: 2.7847e-04\n",
      "Epoch 111/200\n",
      "10/10 [==============================] - 0s 1ms/step - loss: 2.5040e-04 - mae: 0.0122 - mse: 2.5040e-04\n",
      "Epoch 112/200\n",
      "10/10 [==============================] - 0s 1ms/step - loss: 2.2518e-04 - mae: 0.0116 - mse: 2.2518e-04\n",
      "Epoch 113/200\n",
      "10/10 [==============================] - 0s 1ms/step - loss: 2.0248e-04 - mae: 0.0110 - mse: 2.0248e-04\n",
      "Epoch 114/200\n",
      "10/10 [==============================] - 0s 2ms/step - loss: 1.8209e-04 - mae: 0.0104 - mse: 1.8209e-04\n",
      "Epoch 115/200\n",
      "10/10 [==============================] - 0s 1ms/step - loss: 1.6375e-04 - mae: 0.0099 - mse: 1.6375e-04\n",
      "Epoch 116/200\n",
      "10/10 [==============================] - 0s 1ms/step - loss: 1.4725e-04 - mae: 0.0094 - mse: 1.4725e-04\n",
      "Epoch 117/200\n",
      "10/10 [==============================] - 0s 1ms/step - loss: 1.3242e-04 - mae: 0.0089 - mse: 1.3242e-04\n",
      "Epoch 118/200\n",
      "10/10 [==============================] - 0s 1ms/step - loss: 1.1909e-04 - mae: 0.0084 - mse: 1.1909e-04\n",
      "Epoch 119/200\n",
      "10/10 [==============================] - 0s 1ms/step - loss: 1.0709e-04 - mae: 0.0080 - mse: 1.0709e-04\n",
      "Epoch 120/200\n",
      "10/10 [==============================] - 0s 1ms/step - loss: 9.6271e-05 - mae: 0.0076 - mse: 9.6271e-05\n",
      "Epoch 121/200\n",
      "10/10 [==============================] - 0s 1ms/step - loss: 8.6572e-05 - mae: 0.0072 - mse: 8.6572e-05\n",
      "Epoch 122/200\n",
      "10/10 [==============================] - 0s 1ms/step - loss: 7.7851e-05 - mae: 0.0068 - mse: 7.7851e-05\n",
      "Epoch 123/200\n",
      "10/10 [==============================] - 0s 1ms/step - loss: 7.0013e-05 - mae: 0.0065 - mse: 7.0013e-05\n",
      "Epoch 124/200\n",
      "10/10 [==============================] - 0s 1ms/step - loss: 6.2970e-05 - mae: 0.0061 - mse: 6.2970e-05\n",
      "Epoch 125/200\n",
      "10/10 [==============================] - 0s 2ms/step - loss: 5.6630e-05 - mae: 0.0058 - mse: 5.6630e-05\n",
      "Epoch 126/200\n",
      "10/10 [==============================] - 0s 1ms/step - loss: 5.0923e-05 - mae: 0.0055 - mse: 5.0923e-05\n",
      "Epoch 127/200\n",
      "10/10 [==============================] - 0s 1ms/step - loss: 4.5794e-05 - mae: 0.0052 - mse: 4.5794e-05\n",
      "Epoch 128/200\n",
      "10/10 [==============================] - 0s 1ms/step - loss: 4.1180e-05 - mae: 0.0050 - mse: 4.1180e-05\n",
      "Epoch 129/200\n",
      "10/10 [==============================] - 0s 1ms/step - loss: 3.7029e-05 - mae: 0.0047 - mse: 3.7029e-05\n",
      "Epoch 130/200\n",
      "10/10 [==============================] - 0s 1ms/step - loss: 3.3301e-05 - mae: 0.0045 - mse: 3.3301e-05\n",
      "Epoch 131/200\n",
      "10/10 [==============================] - 0s 2ms/step - loss: 2.9942e-05 - mae: 0.0042 - mse: 2.9942e-05\n",
      "Epoch 132/200\n",
      "10/10 [==============================] - 0s 2ms/step - loss: 2.6927e-05 - mae: 0.0040 - mse: 2.6927e-05\n",
      "Epoch 133/200\n",
      "10/10 [==============================] - 0s 2ms/step - loss: 2.4210e-05 - mae: 0.0038 - mse: 2.4210e-05\n",
      "Epoch 134/200\n",
      "10/10 [==============================] - 0s 2ms/step - loss: 2.1767e-05 - mae: 0.0036 - mse: 2.1767e-05\n",
      "Epoch 135/200\n",
      "10/10 [==============================] - 0s 2ms/step - loss: 1.9575e-05 - mae: 0.0034 - mse: 1.9575e-05\n",
      "Epoch 136/200\n",
      "10/10 [==============================] - 0s 2ms/step - loss: 1.7599e-05 - mae: 0.0032 - mse: 1.7599e-05\n",
      "Epoch 137/200\n",
      "10/10 [==============================] - 0s 1ms/step - loss: 1.5823e-05 - mae: 0.0031 - mse: 1.5823e-05\n",
      "Epoch 138/200\n",
      "10/10 [==============================] - 0s 2ms/step - loss: 1.4235e-05 - mae: 0.0029 - mse: 1.4235e-05\n",
      "Epoch 139/200\n",
      "10/10 [==============================] - 0s 2ms/step - loss: 1.2801e-05 - mae: 0.0028 - mse: 1.2801e-05\n",
      "Epoch 140/200\n",
      "10/10 [==============================] - 0s 2ms/step - loss: 1.1513e-05 - mae: 0.0026 - mse: 1.1513e-05\n",
      "Epoch 141/200\n",
      "10/10 [==============================] - 0s 2ms/step - loss: 1.0350e-05 - mae: 0.0025 - mse: 1.0350e-05\n",
      "Epoch 142/200\n",
      "10/10 [==============================] - 0s 1ms/step - loss: 9.3077e-06 - mae: 0.0024 - mse: 9.3077e-06\n",
      "Epoch 143/200\n",
      "10/10 [==============================] - 0s 1ms/step - loss: 8.3733e-06 - mae: 0.0022 - mse: 8.3733e-06\n",
      "Epoch 144/200\n",
      "10/10 [==============================] - 0s 1ms/step - loss: 7.5274e-06 - mae: 0.0021 - mse: 7.5274e-06\n",
      "Epoch 145/200\n",
      "10/10 [==============================] - 0s 1ms/step - loss: 6.7664e-06 - mae: 0.0020 - mse: 6.7664e-06\n",
      "Epoch 146/200\n"
     ]
    },
    {
     "name": "stdout",
     "output_type": "stream",
     "text": [
      "10/10 [==============================] - 0s 1ms/step - loss: 6.0846e-06 - mae: 0.0019 - mse: 6.0846e-06\n",
      "Epoch 147/200\n",
      "10/10 [==============================] - 0s 1ms/step - loss: 5.4697e-06 - mae: 0.0018 - mse: 5.4697e-06\n",
      "Epoch 148/200\n",
      "10/10 [==============================] - 0s 1ms/step - loss: 4.9168e-06 - mae: 0.0017 - mse: 4.9168e-06\n",
      "Epoch 149/200\n",
      "10/10 [==============================] - 0s 1ms/step - loss: 4.4239e-06 - mae: 0.0016 - mse: 4.4239e-06\n",
      "Epoch 150/200\n",
      "10/10 [==============================] - 0s 1ms/step - loss: 3.9777e-06 - mae: 0.0015 - mse: 3.9777e-06\n",
      "Epoch 151/200\n",
      "10/10 [==============================] - 0s 1ms/step - loss: 3.5767e-06 - mae: 0.0015 - mse: 3.5767e-06\n",
      "Epoch 152/200\n",
      "10/10 [==============================] - 0s 1ms/step - loss: 3.2167e-06 - mae: 0.0014 - mse: 3.2167e-06\n",
      "Epoch 153/200\n",
      "10/10 [==============================] - 0s 1ms/step - loss: 2.8931e-06 - mae: 0.0013 - mse: 2.8931e-06\n",
      "Epoch 154/200\n",
      "10/10 [==============================] - 0s 2ms/step - loss: 2.5998e-06 - mae: 0.0012 - mse: 2.5998e-06\n",
      "Epoch 155/200\n",
      "10/10 [==============================] - 0s 2ms/step - loss: 2.3386e-06 - mae: 0.0012 - mse: 2.3386e-06\n",
      "Epoch 156/200\n",
      "10/10 [==============================] - 0s 2ms/step - loss: 2.1052e-06 - mae: 0.0011 - mse: 2.1052e-06\n",
      "Epoch 157/200\n",
      "10/10 [==============================] - 0s 1ms/step - loss: 1.8918e-06 - mae: 0.0011 - mse: 1.8918e-06\n",
      "Epoch 158/200\n",
      "10/10 [==============================] - 0s 1ms/step - loss: 1.6997e-06 - mae: 0.0010 - mse: 1.6997e-06\n",
      "Epoch 159/200\n",
      "10/10 [==============================] - 0s 2ms/step - loss: 1.5296e-06 - mae: 9.5510e-04 - mse: 1.5296e-06\n",
      "Epoch 160/200\n",
      "10/10 [==============================] - 0s 2ms/step - loss: 1.3755e-06 - mae: 9.0556e-04 - mse: 1.3755e-06\n",
      "Epoch 161/200\n",
      "10/10 [==============================] - 0s 2ms/step - loss: 1.2366e-06 - mae: 8.5878e-04 - mse: 1.2366e-06\n",
      "Epoch 162/200\n",
      "10/10 [==============================] - 0s 1ms/step - loss: 1.1125e-06 - mae: 8.1444e-04 - mse: 1.1125e-06\n",
      "Epoch 163/200\n",
      "10/10 [==============================] - 0s 2ms/step - loss: 1.0003e-06 - mae: 7.7238e-04 - mse: 1.0003e-06\n",
      "Epoch 164/200\n",
      "10/10 [==============================] - 0s 1ms/step - loss: 8.9901e-07 - mae: 7.3237e-04 - mse: 8.9901e-07\n",
      "Epoch 165/200\n",
      "10/10 [==============================] - 0s 1ms/step - loss: 8.0838e-07 - mae: 6.9408e-04 - mse: 8.0838e-07\n",
      "Epoch 166/200\n",
      "10/10 [==============================] - 0s 1ms/step - loss: 7.2688e-07 - mae: 6.5856e-04 - mse: 7.2688e-07\n",
      "Epoch 167/200\n",
      "10/10 [==============================] - 0s 1ms/step - loss: 6.5527e-07 - mae: 6.2518e-04 - mse: 6.5527e-07\n",
      "Epoch 168/200\n",
      "10/10 [==============================] - 0s 1ms/step - loss: 5.8810e-07 - mae: 5.9237e-04 - mse: 5.8810e-07\n",
      "Epoch 169/200\n",
      "10/10 [==============================] - 0s 1ms/step - loss: 5.2901e-07 - mae: 5.6143e-04 - mse: 5.2901e-07\n",
      "Epoch 170/200\n",
      "10/10 [==============================] - 0s 1ms/step - loss: 4.7653e-07 - mae: 5.3306e-04 - mse: 4.7653e-07\n",
      "Epoch 171/200\n",
      "10/10 [==============================] - 0s 1ms/step - loss: 4.2831e-07 - mae: 5.0540e-04 - mse: 4.2831e-07\n",
      "Epoch 172/200\n",
      "10/10 [==============================] - 0s 1ms/step - loss: 3.8604e-07 - mae: 4.7975e-04 - mse: 3.8604e-07\n",
      "Epoch 173/200\n",
      "10/10 [==============================] - 0s 1ms/step - loss: 3.4758e-07 - mae: 4.5524e-04 - mse: 3.4758e-07\n",
      "Epoch 174/200\n",
      "10/10 [==============================] - 0s 2ms/step - loss: 3.1175e-07 - mae: 4.3106e-04 - mse: 3.1175e-07\n",
      "Epoch 175/200\n",
      "10/10 [==============================] - 0s 2ms/step - loss: 2.8031e-07 - mae: 4.0898e-04 - mse: 2.8031e-07\n",
      "Epoch 176/200\n",
      "10/10 [==============================] - 0s 2ms/step - loss: 2.5257e-07 - mae: 3.8815e-04 - mse: 2.5257e-07\n",
      "Epoch 177/200\n",
      "10/10 [==============================] - 0s 1ms/step - loss: 2.2736e-07 - mae: 3.6793e-04 - mse: 2.2736e-07\n",
      "Epoch 178/200\n",
      "10/10 [==============================] - 0s 1ms/step - loss: 2.0342e-07 - mae: 3.4852e-04 - mse: 2.0342e-07\n",
      "Epoch 179/200\n",
      "10/10 [==============================] - 0s 1ms/step - loss: 1.8306e-07 - mae: 3.3035e-04 - mse: 1.8306e-07\n",
      "Epoch 180/200\n",
      "10/10 [==============================] - 0s 1ms/step - loss: 1.6438e-07 - mae: 3.1309e-04 - mse: 1.6438e-07\n",
      "Epoch 181/200\n",
      "10/10 [==============================] - 0s 1ms/step - loss: 1.4801e-07 - mae: 2.9712e-04 - mse: 1.4801e-07\n",
      "Epoch 182/200\n",
      "10/10 [==============================] - 0s 1ms/step - loss: 1.3242e-07 - mae: 2.8110e-04 - mse: 1.3242e-07\n",
      "Epoch 183/200\n",
      "10/10 [==============================] - 0s 1ms/step - loss: 1.1895e-07 - mae: 2.6636e-04 - mse: 1.1895e-07\n",
      "Epoch 184/200\n",
      "10/10 [==============================] - 0s 1ms/step - loss: 1.0695e-07 - mae: 2.5239e-04 - mse: 1.0695e-07\n",
      "Epoch 185/200\n",
      "10/10 [==============================] - 0s 1ms/step - loss: 9.5983e-08 - mae: 2.3923e-04 - mse: 9.5983e-08\n",
      "Epoch 186/200\n",
      "10/10 [==============================] - 0s 1ms/step - loss: 8.6673e-08 - mae: 2.2750e-04 - mse: 8.6673e-08\n",
      "Epoch 187/200\n",
      "10/10 [==============================] - 0s 1ms/step - loss: 7.8187e-08 - mae: 2.1567e-04 - mse: 7.8187e-08\n",
      "Epoch 188/200\n",
      "10/10 [==============================] - 0s 1ms/step - loss: 7.0474e-08 - mae: 2.0480e-04 - mse: 7.0474e-08\n",
      "Epoch 189/200\n",
      "10/10 [==============================] - 0s 1ms/step - loss: 6.3425e-08 - mae: 1.9474e-04 - mse: 6.3425e-08\n",
      "Epoch 190/200\n",
      "10/10 [==============================] - 0s 1ms/step - loss: 5.7087e-08 - mae: 1.8463e-04 - mse: 5.7087e-08\n",
      "Epoch 191/200\n",
      "10/10 [==============================] - 0s 1ms/step - loss: 5.1383e-08 - mae: 1.7486e-04 - mse: 5.1383e-08\n",
      "Epoch 192/200\n",
      "10/10 [==============================] - 0s 998us/step - loss: 4.5963e-08 - mae: 1.6537e-04 - mse: 4.5963e-08\n",
      "Epoch 193/200\n",
      "10/10 [==============================] - 0s 941us/step - loss: 4.1316e-08 - mae: 1.5669e-04 - mse: 4.1316e-08\n",
      "Epoch 194/200\n",
      "10/10 [==============================] - 0s 1ms/step - loss: 3.7089e-08 - mae: 1.4868e-04 - mse: 3.7089e-08\n",
      "Epoch 195/200\n",
      "10/10 [==============================] - 0s 1ms/step - loss: 3.3434e-08 - mae: 1.4124e-04 - mse: 3.3434e-08\n",
      "Epoch 196/200\n",
      "10/10 [==============================] - 0s 1ms/step - loss: 3.0169e-08 - mae: 1.3413e-04 - mse: 3.0169e-08\n",
      "Epoch 197/200\n",
      "10/10 [==============================] - 0s 1ms/step - loss: 2.7493e-08 - mae: 1.2808e-04 - mse: 2.7493e-08\n",
      "Epoch 198/200\n",
      "10/10 [==============================] - 0s 1ms/step - loss: 2.4417e-08 - mae: 1.2050e-04 - mse: 2.4417e-08\n",
      "Epoch 199/200\n",
      "10/10 [==============================] - 0s 1ms/step - loss: 2.1757e-08 - mae: 1.1396e-04 - mse: 2.1757e-08\n",
      "Epoch 200/200\n",
      "10/10 [==============================] - 0s 969us/step - loss: 1.9432e-08 - mae: 1.0762e-04 - mse: 1.9432e-08\n"
     ]
    },
    {
     "data": {
      "text/plain": [
       "<keras.callbacks.History at 0x7f307bdbd5f8>"
      ]
     },
     "execution_count": 7,
     "metadata": {},
     "output_type": "execute_result"
    }
   ],
   "source": [
    "tf.random.set_seed(0)\n",
    "\n",
    "epocas = 200\n",
    "tam_lote = 1\n",
    "\n",
    "modelo = RegLineal()\n",
    "modelo.build(input_shape=(None,1))\n",
    "modelo.compile(optimizer='sgd',loss=func_perdida,metrics=['mae','mse'])\n",
    "modelo.fit(dst,epochs=epocas, batch_size=tam_lote,verbose=True)"
   ]
  },
  {
   "cell_type": "code",
   "execution_count": 8,
   "metadata": {
    "ExecuteTime": {
     "end_time": "2021-09-23T22:53:00.630165Z",
     "start_time": "2021-09-23T22:53:00.619651Z"
    }
   },
   "outputs": [
    {
     "data": {
      "text/plain": [
       "(-2.999973, 9.999746)"
      ]
     },
     "execution_count": 8,
     "metadata": {},
     "output_type": "execute_result"
    }
   ],
   "source": [
    "modelo.w.numpy(),modelo.b.numpy()"
   ]
  },
  {
   "cell_type": "code",
   "execution_count": 11,
   "metadata": {
    "ExecuteTime": {
     "end_time": "2021-09-23T22:53:01.442731Z",
     "start_time": "2021-09-23T22:53:01.132111Z"
    }
   },
   "outputs": [
    {
     "name": "stdout",
     "output_type": "stream",
     "text": [
      "\u001b[1mDownloading and preparing dataset 4.44 KiB (download: 4.44 KiB, generated: Unknown size, total: 4.44 KiB) to /root/tensorflow_datasets/iris/2.0.0...\u001b[0m\n"
     ]
    },
    {
     "data": {
      "application/vnd.jupyter.widget-view+json": {
       "model_id": "ef7f24509edd428495a9447dcf7e8dfe",
       "version_major": 2,
       "version_minor": 0
      },
      "text/plain": [
       "Dl Completed...: 0 url [00:00, ? url/s]"
      ]
     },
     "metadata": {},
     "output_type": "display_data"
    },
    {
     "data": {
      "application/vnd.jupyter.widget-view+json": {
       "model_id": "0f8e688760b34ed78ca27e51b137822d",
       "version_major": 2,
       "version_minor": 0
      },
      "text/plain": [
       "Dl Size...: 0 MiB [00:00, ? MiB/s]"
      ]
     },
     "metadata": {},
     "output_type": "display_data"
    },
    {
     "data": {
      "application/vnd.jupyter.widget-view+json": {
       "model_id": "",
       "version_major": 2,
       "version_minor": 0
      },
      "text/plain": [
       "Generating splits...:   0%|          | 0/1 [00:00<?, ? splits/s]"
      ]
     },
     "metadata": {},
     "output_type": "display_data"
    },
    {
     "data": {
      "application/vnd.jupyter.widget-view+json": {
       "model_id": "",
       "version_major": 2,
       "version_minor": 0
      },
      "text/plain": [
       "Generating train examples...:   0%|          | 0/150 [00:00<?, ? examples/s]"
      ]
     },
     "metadata": {},
     "output_type": "display_data"
    },
    {
     "data": {
      "application/vnd.jupyter.widget-view+json": {
       "model_id": "",
       "version_major": 2,
       "version_minor": 0
      },
      "text/plain": [
       "Shuffling iris-train.tfrecord...:   0%|          | 0/150 [00:00<?, ? examples/s]"
      ]
     },
     "metadata": {},
     "output_type": "display_data"
    },
    {
     "name": "stdout",
     "output_type": "stream",
     "text": [
      "\u001b[1mDataset iris downloaded and prepared to /root/tensorflow_datasets/iris/2.0.0. Subsequent calls will reuse this data.\u001b[0m\n",
      "Model: \"sequential\"\n",
      "_________________________________________________________________\n",
      "Layer (type)                 Output Shape              Param #   \n",
      "=================================================================\n",
      "fc1 (Dense)                  (None, 5)                 25        \n",
      "_________________________________________________________________\n",
      "fc2 (Dense)                  (None, 3)                 18        \n",
      "=================================================================\n",
      "Total params: 43\n",
      "Trainable params: 43\n",
      "Non-trainable params: 0\n",
      "_________________________________________________________________\n"
     ]
    }
   ],
   "source": [
    "import tensorflow_datasets as tfds\n",
    "iris, iris_info = tfds.load('iris',with_info = True)\n",
    "\n",
    "tf.random.set_seed(0)\n",
    "\n",
    "ds_orig = iris['train']\n",
    "ds_orig = ds_orig.shuffle(150,reshuffle_each_iteration=False)\n",
    "\n",
    "dst_orig = ds_orig.take(100)\n",
    "dsv = ds_orig.skip(100)\n",
    "\n",
    "dst_orig = dst_orig.map(lambda x: (x['features'],x['label']))\n",
    "dsv = dsv.map(lambda x: (x['features'],x['label']))\n",
    "\n",
    "modelo = tf.keras.Sequential([\n",
    "    tf.keras.layers.Dense(5,activation='sigmoid',name='fc1',input_shape=(4,)),\n",
    "    tf.keras.layers.Dense(3,activation='softmax',name='fc2')\n",
    "])\n",
    "\n",
    "modelo.summary()\n"
   ]
  },
  {
   "cell_type": "code",
   "execution_count": 13,
   "metadata": {
    "ExecuteTime": {
     "end_time": "2021-09-23T22:53:02.759662Z",
     "start_time": "2021-09-23T22:53:02.021947Z"
    }
   },
   "outputs": [
    {
     "name": "stdout",
     "output_type": "stream",
     "text": [
      "Epoch 1/100\n",
      "50/50 [==============================] - 0s 2ms/step - loss: 0.2557 - accuracy: 0.9800\n",
      "Epoch 2/100\n",
      "50/50 [==============================] - 0s 2ms/step - loss: 0.2499 - accuracy: 0.9800\n",
      "Epoch 3/100\n",
      "50/50 [==============================] - 0s 2ms/step - loss: 0.2458 - accuracy: 0.9800\n",
      "Epoch 4/100\n",
      "50/50 [==============================] - 0s 2ms/step - loss: 0.2427 - accuracy: 0.9800\n",
      "Epoch 5/100\n",
      "50/50 [==============================] - 0s 2ms/step - loss: 0.2401 - accuracy: 0.9800\n",
      "Epoch 6/100\n",
      "50/50 [==============================] - 0s 2ms/step - loss: 0.2372 - accuracy: 0.9800\n",
      "Epoch 7/100\n",
      "50/50 [==============================] - 0s 2ms/step - loss: 0.2345 - accuracy: 0.9800\n",
      "Epoch 8/100\n",
      "50/50 [==============================] - 0s 2ms/step - loss: 0.2313 - accuracy: 0.9800\n",
      "Epoch 9/100\n",
      "50/50 [==============================] - 0s 2ms/step - loss: 0.2279 - accuracy: 0.9800\n",
      "Epoch 10/100\n",
      "50/50 [==============================] - 0s 2ms/step - loss: 0.2258 - accuracy: 0.9800\n",
      "Epoch 11/100\n",
      "50/50 [==============================] - 0s 2ms/step - loss: 0.2225 - accuracy: 0.9800\n",
      "Epoch 12/100\n",
      "50/50 [==============================] - 0s 2ms/step - loss: 0.2199 - accuracy: 0.9800\n",
      "Epoch 13/100\n",
      "50/50 [==============================] - 0s 2ms/step - loss: 0.2193 - accuracy: 0.9800\n",
      "Epoch 14/100\n",
      "50/50 [==============================] - 0s 2ms/step - loss: 0.2142 - accuracy: 0.9800\n",
      "Epoch 15/100\n",
      "50/50 [==============================] - 0s 2ms/step - loss: 0.2128 - accuracy: 0.9800\n",
      "Epoch 16/100\n",
      "50/50 [==============================] - 0s 1ms/step - loss: 0.2110 - accuracy: 0.9800\n",
      "Epoch 17/100\n",
      "50/50 [==============================] - 0s 2ms/step - loss: 0.2085 - accuracy: 0.9800\n",
      "Epoch 18/100\n",
      "50/50 [==============================] - 0s 2ms/step - loss: 0.2076 - accuracy: 0.9800\n",
      "Epoch 19/100\n",
      "50/50 [==============================] - 0s 2ms/step - loss: 0.2035 - accuracy: 0.9800\n",
      "Epoch 20/100\n",
      "50/50 [==============================] - 0s 2ms/step - loss: 0.2010 - accuracy: 0.9800\n",
      "Epoch 21/100\n",
      "50/50 [==============================] - 0s 2ms/step - loss: 0.1986 - accuracy: 0.9800\n",
      "Epoch 22/100\n",
      "50/50 [==============================] - 0s 2ms/step - loss: 0.1975 - accuracy: 0.9800\n",
      "Epoch 23/100\n",
      "50/50 [==============================] - 0s 2ms/step - loss: 0.1951 - accuracy: 0.9800\n",
      "Epoch 24/100\n",
      "50/50 [==============================] - 0s 2ms/step - loss: 0.1926 - accuracy: 0.9800\n",
      "Epoch 25/100\n",
      "50/50 [==============================] - 0s 2ms/step - loss: 0.1933 - accuracy: 0.9800\n",
      "Epoch 26/100\n",
      "50/50 [==============================] - 0s 2ms/step - loss: 0.1878 - accuracy: 0.9800\n",
      "Epoch 27/100\n",
      "50/50 [==============================] - 0s 2ms/step - loss: 0.1867 - accuracy: 0.9800\n",
      "Epoch 28/100\n",
      "50/50 [==============================] - 0s 2ms/step - loss: 0.1838 - accuracy: 0.9800\n",
      "Epoch 29/100\n",
      "50/50 [==============================] - 0s 1ms/step - loss: 0.1824 - accuracy: 0.9800\n",
      "Epoch 30/100\n",
      "50/50 [==============================] - 0s 1ms/step - loss: 0.1806 - accuracy: 0.9800\n",
      "Epoch 31/100\n",
      "50/50 [==============================] - 0s 1ms/step - loss: 0.1801 - accuracy: 0.9800\n",
      "Epoch 32/100\n",
      "50/50 [==============================] - 0s 2ms/step - loss: 0.1761 - accuracy: 0.9800\n",
      "Epoch 33/100\n",
      "50/50 [==============================] - 0s 2ms/step - loss: 0.1740 - accuracy: 0.9800\n",
      "Epoch 34/100\n",
      "50/50 [==============================] - 0s 1ms/step - loss: 0.1735 - accuracy: 0.9800\n",
      "Epoch 35/100\n",
      "50/50 [==============================] - 0s 2ms/step - loss: 0.1705 - accuracy: 0.9800\n",
      "Epoch 36/100\n",
      "50/50 [==============================] - 0s 1ms/step - loss: 0.1702 - accuracy: 0.9800\n",
      "Epoch 37/100\n",
      "50/50 [==============================] - 0s 1ms/step - loss: 0.1673 - accuracy: 0.9800\n",
      "Epoch 38/100\n",
      "50/50 [==============================] - 0s 2ms/step - loss: 0.1653 - accuracy: 0.9800\n",
      "Epoch 39/100\n",
      "50/50 [==============================] - 0s 1ms/step - loss: 0.1634 - accuracy: 0.9800\n",
      "Epoch 40/100\n",
      "50/50 [==============================] - 0s 1ms/step - loss: 0.1617 - accuracy: 0.9800\n",
      "Epoch 41/100\n",
      "50/50 [==============================] - 0s 1ms/step - loss: 0.1601 - accuracy: 0.9700\n",
      "Epoch 42/100\n",
      "50/50 [==============================] - 0s 1ms/step - loss: 0.1582 - accuracy: 0.9800\n",
      "Epoch 43/100\n",
      "50/50 [==============================] - 0s 1ms/step - loss: 0.1558 - accuracy: 0.9800\n",
      "Epoch 44/100\n",
      "50/50 [==============================] - 0s 1ms/step - loss: 0.1540 - accuracy: 0.9800\n",
      "Epoch 45/100\n",
      "50/50 [==============================] - 0s 2ms/step - loss: 0.1522 - accuracy: 0.9800\n",
      "Epoch 46/100\n",
      "50/50 [==============================] - 0s 2ms/step - loss: 0.1518 - accuracy: 0.9800\n",
      "Epoch 47/100\n",
      "50/50 [==============================] - 0s 1ms/step - loss: 0.1495 - accuracy: 0.9800\n",
      "Epoch 48/100\n",
      "50/50 [==============================] - 0s 2ms/step - loss: 0.1478 - accuracy: 0.9800\n",
      "Epoch 49/100\n",
      "50/50 [==============================] - 0s 2ms/step - loss: 0.1475 - accuracy: 0.9800\n",
      "Epoch 50/100\n",
      "50/50 [==============================] - 0s 2ms/step - loss: 0.1448 - accuracy: 0.9800\n",
      "Epoch 51/100\n",
      "50/50 [==============================] - 0s 2ms/step - loss: 0.1433 - accuracy: 0.9800\n",
      "Epoch 52/100\n",
      "50/50 [==============================] - 0s 2ms/step - loss: 0.1427 - accuracy: 0.9800\n",
      "Epoch 53/100\n",
      "50/50 [==============================] - 0s 2ms/step - loss: 0.1405 - accuracy: 0.9800\n",
      "Epoch 54/100\n",
      "50/50 [==============================] - 0s 2ms/step - loss: 0.1411 - accuracy: 0.9700\n",
      "Epoch 55/100\n",
      "50/50 [==============================] - 0s 1ms/step - loss: 0.1377 - accuracy: 0.9800\n",
      "Epoch 56/100\n",
      "50/50 [==============================] - 0s 2ms/step - loss: 0.1366 - accuracy: 0.9800\n",
      "Epoch 57/100\n",
      "50/50 [==============================] - 0s 2ms/step - loss: 0.1353 - accuracy: 0.9800\n",
      "Epoch 58/100\n",
      "50/50 [==============================] - 0s 2ms/step - loss: 0.1345 - accuracy: 0.9800\n",
      "Epoch 59/100\n",
      "50/50 [==============================] - 0s 2ms/step - loss: 0.1331 - accuracy: 0.9800\n",
      "Epoch 60/100\n",
      "50/50 [==============================] - 0s 2ms/step - loss: 0.1332 - accuracy: 0.9800\n",
      "Epoch 61/100\n",
      "50/50 [==============================] - 0s 2ms/step - loss: 0.1306 - accuracy: 0.9800\n",
      "Epoch 62/100\n",
      "50/50 [==============================] - 0s 1ms/step - loss: 0.1291 - accuracy: 0.9800\n",
      "Epoch 63/100\n",
      "50/50 [==============================] - 0s 2ms/step - loss: 0.1274 - accuracy: 0.9800\n",
      "Epoch 64/100\n",
      "50/50 [==============================] - 0s 2ms/step - loss: 0.1267 - accuracy: 0.9800\n",
      "Epoch 65/100\n",
      "50/50 [==============================] - 0s 2ms/step - loss: 0.1262 - accuracy: 0.9800\n",
      "Epoch 66/100\n",
      "50/50 [==============================] - 0s 2ms/step - loss: 0.1251 - accuracy: 0.9800\n",
      "Epoch 67/100\n",
      "50/50 [==============================] - 0s 2ms/step - loss: 0.1241 - accuracy: 0.9800\n",
      "Epoch 68/100\n",
      "50/50 [==============================] - 0s 2ms/step - loss: 0.1241 - accuracy: 0.9700\n",
      "Epoch 69/100\n",
      "50/50 [==============================] - 0s 1ms/step - loss: 0.1223 - accuracy: 0.9800\n",
      "Epoch 70/100\n",
      "50/50 [==============================] - 0s 2ms/step - loss: 0.1209 - accuracy: 0.9800\n",
      "Epoch 71/100\n",
      "50/50 [==============================] - 0s 2ms/step - loss: 0.1208 - accuracy: 0.9800\n",
      "Epoch 72/100\n",
      "50/50 [==============================] - 0s 2ms/step - loss: 0.1204 - accuracy: 0.9800\n",
      "Epoch 73/100\n",
      "50/50 [==============================] - 0s 2ms/step - loss: 0.1190 - accuracy: 0.9800\n",
      "Epoch 74/100\n",
      "50/50 [==============================] - 0s 2ms/step - loss: 0.1186 - accuracy: 0.9700\n",
      "Epoch 75/100\n",
      "50/50 [==============================] - 0s 2ms/step - loss: 0.1163 - accuracy: 0.9800\n",
      "Epoch 76/100\n",
      "50/50 [==============================] - 0s 2ms/step - loss: 0.1151 - accuracy: 0.9800\n",
      "Epoch 77/100\n",
      "50/50 [==============================] - 0s 2ms/step - loss: 0.1163 - accuracy: 0.9700\n",
      "Epoch 78/100\n",
      "50/50 [==============================] - 0s 2ms/step - loss: 0.1139 - accuracy: 0.9800\n",
      "Epoch 79/100\n",
      "50/50 [==============================] - 0s 2ms/step - loss: 0.1139 - accuracy: 0.9800\n",
      "Epoch 80/100\n",
      "50/50 [==============================] - 0s 2ms/step - loss: 0.1127 - accuracy: 0.9800\n",
      "Epoch 81/100\n",
      "50/50 [==============================] - 0s 2ms/step - loss: 0.1129 - accuracy: 0.9800\n",
      "Epoch 82/100\n",
      "50/50 [==============================] - 0s 2ms/step - loss: 0.1104 - accuracy: 0.9800\n",
      "Epoch 83/100\n"
     ]
    },
    {
     "name": "stdout",
     "output_type": "stream",
     "text": [
      "50/50 [==============================] - 0s 2ms/step - loss: 0.1098 - accuracy: 0.9800\n",
      "Epoch 84/100\n",
      "50/50 [==============================] - 0s 2ms/step - loss: 0.1095 - accuracy: 0.9800\n",
      "Epoch 85/100\n",
      "50/50 [==============================] - 0s 2ms/step - loss: 0.1084 - accuracy: 0.9800\n",
      "Epoch 86/100\n",
      "50/50 [==============================] - 0s 2ms/step - loss: 0.1075 - accuracy: 0.9800\n",
      "Epoch 87/100\n",
      "50/50 [==============================] - 0s 2ms/step - loss: 0.1077 - accuracy: 0.9800\n",
      "Epoch 88/100\n",
      "50/50 [==============================] - 0s 2ms/step - loss: 0.1062 - accuracy: 0.9800\n",
      "Epoch 89/100\n",
      "50/50 [==============================] - 0s 2ms/step - loss: 0.1051 - accuracy: 0.9800\n",
      "Epoch 90/100\n",
      "50/50 [==============================] - 0s 2ms/step - loss: 0.1065 - accuracy: 0.9800\n",
      "Epoch 91/100\n",
      "50/50 [==============================] - 0s 2ms/step - loss: 0.1053 - accuracy: 0.9800\n",
      "Epoch 92/100\n",
      "50/50 [==============================] - 0s 2ms/step - loss: 0.1051 - accuracy: 0.9800\n",
      "Epoch 93/100\n",
      "50/50 [==============================] - 0s 2ms/step - loss: 0.1039 - accuracy: 0.9800\n",
      "Epoch 94/100\n",
      "50/50 [==============================] - 0s 2ms/step - loss: 0.1030 - accuracy: 0.9800\n",
      "Epoch 95/100\n",
      "50/50 [==============================] - 0s 2ms/step - loss: 0.1010 - accuracy: 0.9800\n",
      "Epoch 96/100\n",
      "50/50 [==============================] - 0s 2ms/step - loss: 0.1004 - accuracy: 0.9800\n",
      "Epoch 97/100\n",
      "50/50 [==============================] - 0s 2ms/step - loss: 0.0999 - accuracy: 0.9800\n",
      "Epoch 98/100\n",
      "50/50 [==============================] - 0s 2ms/step - loss: 0.0995 - accuracy: 0.9800\n",
      "Epoch 99/100\n",
      "50/50 [==============================] - 0s 2ms/step - loss: 0.0990 - accuracy: 0.9800\n",
      "Epoch 100/100\n",
      "50/50 [==============================] - 0s 2ms/step - loss: 0.0979 - accuracy: 0.9800\n"
     ]
    }
   ],
   "source": [
    "modelo.compile(optimizer='adam',metrics=['accuracy'],\n",
    "               loss='sparse_categorical_crossentropy')\n",
    "\n",
    "epocas = 100\n",
    "tam_entrenamiento =100\n",
    "tam_lote = 2\n",
    "pasos_por_epoca = np.ceil(tam_entrenamiento/tam_lote)\n",
    "\n",
    "dst = dst_orig.shuffle(buffer_size=tam_entrenamiento)\n",
    "dst = dst.repeat()\n",
    "dst = dst.batch(batch_size=tam_lote)\n",
    "dst = dst.prefetch(buffer_size=1000)\n",
    "historia = modelo.fit(dst,epochs=epocas,steps_per_epoch=pasos_por_epoca,verbose=True)"
   ]
  },
  {
   "cell_type": "code",
   "execution_count": 14,
   "metadata": {
    "ExecuteTime": {
     "end_time": "2021-09-23T22:54:26.035253Z",
     "start_time": "2021-09-23T22:54:25.932202Z"
    }
   },
   "outputs": [
    {
     "data": {
      "image/png": "[encoded data removed]",
      "text/plain": [
       "<Figure size 864x360 with 2 Axes>"
      ]
     },
     "metadata": {
      "needs_background": "light"
     },
     "output_type": "display_data"
    }
   ],
   "source": [
    "fig = plt.figure(figsize=(12,5))\n",
    "ax = fig.add_subplot(1,2,1)\n",
    "ax.plot(historia.history['loss'],lw=3)\n",
    "ax.set_title('Pérdida durante entrenamiento',size=15)\n",
    "ax.set_xlabel('Época',size=15)\n",
    "ax.tick_params(axis='both',which='major',labelsize=15)\n",
    "ax = fig.add_subplot(1,2,2)\n",
    "ax.plot(historia.history['accuracy'],lw=3)\n",
    "ax.set_title('Precisión durante entrenamiento',size=15)\n",
    "ax.set_xlabel('Época',size=15)\n",
    "ax.tick_params(axis='both',which='major',labelsize=15)\n",
    "plt.show()"
   ]
  },
  {
   "cell_type": "code",
   "execution_count": 15,
   "metadata": {},
   "outputs": [
    {
     "data": {
      "text/plain": [
       "[0.13046425580978394, 0.9800000190734863]"
      ]
     },
     "execution_count": 15,
     "metadata": {},
     "output_type": "execute_result"
    }
   ],
   "source": [
    "modelo.evaluate(dsv.batch(50),verbose=0)"
   ]
  },
  {
   "cell_type": "code",
   "execution_count": 16,
   "metadata": {},
   "outputs": [],
   "source": [
    "modelo.save('iristf.h5',\n",
    "            overwrite=True,\n",
    "            include_optimizer=True,\n",
    "            save_format='h5')"
   ]
  },
  {
   "cell_type": "code",
   "execution_count": 17,
   "metadata": {},
   "outputs": [
    {
     "name": "stdout",
     "output_type": "stream",
     "text": [
      "1/1 [==============================] - 0s 85ms/step - loss: 0.1305 - accuracy: 0.9800\n"
     ]
    },
    {
     "data": {
      "text/plain": [
       "[0.13046425580978394, 0.9800000190734863]"
      ]
     },
     "execution_count": 17,
     "metadata": {},
     "output_type": "execute_result"
    }
   ],
   "source": [
    "modelo_cargado = tf.keras.models.load_model('iristf.h5')\n",
    "modelo_cargado.evaluate(dsv.batch(50))"
   ]
  },
  {
   "cell_type": "code",
   "execution_count": null,
   "metadata": {},
   "outputs": [],
   "source": []
  }
 ],
 "metadata": {
  "kernelspec": {
   "display_name": "Python 3",
   "language": "python",
   "name": "python3"
  },
  "language_info": {
   "codemirror_mode": {
    "name": "ipython",
    "version": 3
   },
   "file_extension": ".py",
   "mimetype": "text/x-python",
   "name": "python",
   "nbconvert_exporter": "python",
   "pygments_lexer": "ipython3",
   "version": "3.6.9"
  },
  "toc": {
   "base_numbering": 1,
   "nav_menu": {},
   "number_sections": true,
   "sideBar": true,
   "skip_h1_title": false,
   "title_cell": "Table of Contents",
   "title_sidebar": "Contents",
   "toc_cell": false,
   "toc_position": {},
   "toc_section_display": true,
   "toc_window_display": false
  }
 },
 "nbformat": 4,
 "nbformat_minor": 4
}
